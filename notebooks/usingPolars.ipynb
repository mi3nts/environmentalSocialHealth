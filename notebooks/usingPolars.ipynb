{
 "cells": [
  {
   "cell_type": "code",
   "execution_count": 1,
   "metadata": {},
   "outputs": [],
   "source": [
    "import polars as pl\n",
    "import os\n",
    "import random"
   ]
  },
  {
   "cell_type": "code",
   "execution_count": 32,
   "metadata": {},
   "outputs": [
    {
     "data": {
      "text/plain": [
       "'D:/GitHub/THCICAnalysis/Hospital/PUDF_base1_4q2005_tab.csv'"
      ]
     },
     "execution_count": 32,
     "metadata": {},
     "output_type": "execute_result"
    }
   ],
   "source": [
    "hospital_data = \"D:/GitHub/THCICAnalysis/Hospital/\"\n",
    "random_df = os.path.join(hospital_data, random.choice(os.listdir(hospital_data))).replace('\\\\','/')\n",
    "random_df"
   ]
  },
  {
   "cell_type": "code",
   "execution_count": 3,
   "metadata": {},
   "outputs": [],
   "source": [
    "hospital_df = pl.read_csv(random_df, infer_schema_length=0)"
   ]
  },
  {
   "cell_type": "code",
   "execution_count": 34,
   "metadata": {},
   "outputs": [
    {
     "data": {
      "text/html": [
       "<div><style>\n",
       ".dataframe > thead > tr > th,\n",
       ".dataframe > tbody > tr > td {\n",
       "  text-align: right;\n",
       "  white-space: pre-wrap;\n",
       "}\n",
       "</style>\n",
       "<small>shape: (1_939, 23)</small><table border=\"1\" class=\"dataframe\"><thead><tr><th>PAT_ZIP</th><th>2000</th><th>2001</th><th>2002</th><th>2003</th><th>2004</th><th>2005</th><th>2006</th><th>2007</th><th>2008</th><th>2009</th><th>2010</th><th>2011</th><th>2012</th><th>2013</th><th>2014</th><th>2015</th><th>2016</th><th>2017</th><th>2018</th><th>2019</th><th>2020</th><th>2021</th></tr><tr><td>i64</td><td>i64</td><td>i64</td><td>i64</td><td>i64</td><td>i64</td><td>i64</td><td>i64</td><td>i64</td><td>i64</td><td>i64</td><td>i64</td><td>i64</td><td>i64</td><td>i64</td><td>i64</td><td>i64</td><td>i64</td><td>i64</td><td>i64</td><td>i64</td><td>i64</td><td>i64</td></tr></thead><tbody><tr><td>73949</td><td>1866</td><td>1866</td><td>1866</td><td>1866</td><td>1866</td><td>1866</td><td>1866</td><td>1866</td><td>1866</td><td>1866</td><td>1866</td><td>1866</td><td>1866</td><td>1866</td><td>1866</td><td>1866</td><td>1866</td><td>1764</td><td>1662</td><td>1561</td><td>1459</td><td>1357</td></tr><tr><td>75001</td><td>8175</td><td>8569</td><td>8963</td><td>9357</td><td>9751</td><td>10145</td><td>10540</td><td>10934</td><td>11328</td><td>11722</td><td>12116</td><td>12510</td><td>12892</td><td>13274</td><td>13657</td><td>14039</td><td>14421</td><td>14794</td><td>15167</td><td>15541</td><td>15914</td><td>16287</td></tr><tr><td>75002</td><td>37171</td><td>39444</td><td>41717</td><td>43990</td><td>46263</td><td>48536</td><td>50810</td><td>53083</td><td>55356</td><td>57629</td><td>59902</td><td>62175</td><td>63513</td><td>64850</td><td>66188</td><td>67525</td><td>68863</td><td>69311</td><td>69759</td><td>70206</td><td>70654</td><td>71102</td></tr><tr><td>75006</td><td>45990</td><td>45985</td><td>45979</td><td>45974</td><td>45969</td><td>45963</td><td>45958</td><td>45952</td><td>45947</td><td>45942</td><td>45936</td><td>45931</td><td>46752</td><td>47574</td><td>48395</td><td>49217</td><td>50038</td><td>49651</td><td>49264</td><td>48878</td><td>48491</td><td>48104</td></tr><tr><td>75007</td><td>50357</td><td>50408</td><td>50460</td><td>50511</td><td>50562</td><td>50613</td><td>50665</td><td>50716</td><td>50767</td><td>50818</td><td>50870</td><td>50921</td><td>51599</td><td>52277</td><td>52956</td><td>53634</td><td>54312</td><td>54339</td><td>54366</td><td>54394</td><td>54421</td><td>54448</td></tr><tr><td>75009</td><td>4913</td><td>5232</td><td>5550</td><td>5869</td><td>6188</td><td>6506</td><td>6825</td><td>7143</td><td>7462</td><td>7781</td><td>8099</td><td>8418</td><td>8778</td><td>9139</td><td>9499</td><td>9860</td><td>10220</td><td>13123</td><td>16027</td><td>18930</td><td>21834</td><td>24737</td></tr><tr><td>75010</td><td>13141</td><td>14015</td><td>14889</td><td>15763</td><td>16637</td><td>17511</td><td>18386</td><td>19260</td><td>20134</td><td>21008</td><td>21882</td><td>22756</td><td>23352</td><td>23949</td><td>24545</td><td>25142</td><td>25738</td><td>26616</td><td>27494</td><td>28373</td><td>29251</td><td>30129</td></tr><tr><td>75013</td><td>11584</td><td>13082</td><td>14579</td><td>16077</td><td>17575</td><td>19073</td><td>20570</td><td>22068</td><td>23566</td><td>25064</td><td>26561</td><td>28059</td><td>29957</td><td>31855</td><td>33752</td><td>35650</td><td>37548</td><td>39000</td><td>40452</td><td>41903</td><td>43355</td><td>44807</td></tr><tr><td>75019</td><td>35805</td><td>36077</td><td>36349</td><td>36621</td><td>36893</td><td>37165</td><td>37437</td><td>37709</td><td>37981</td><td>38253</td><td>38525</td><td>38797</td><td>39210</td><td>39623</td><td>40037</td><td>40450</td><td>40863</td><td>41555</td><td>42247</td><td>42940</td><td>43632</td><td>44324</td></tr><tr><td>75020</td><td>21730</td><td>21817</td><td>21905</td><td>21992</td><td>22079</td><td>22167</td><td>22254</td><td>22342</td><td>22429</td><td>22516</td><td>22604</td><td>22691</td><td>22604</td><td>22517</td><td>22430</td><td>22343</td><td>22256</td><td>22442</td><td>22627</td><td>22813</td><td>22998</td><td>23184</td></tr><tr><td>75021</td><td>7676</td><td>7725</td><td>7773</td><td>7822</td><td>7871</td><td>7920</td><td>7968</td><td>8017</td><td>8066</td><td>8115</td><td>8163</td><td>8212</td><td>8227</td><td>8242</td><td>8258</td><td>8273</td><td>8288</td><td>8496</td><td>8704</td><td>8911</td><td>9119</td><td>9327</td></tr><tr><td>75022</td><td>13823</td><td>14578</td><td>15334</td><td>16089</td><td>16844</td><td>17600</td><td>18355</td><td>19111</td><td>19866</td><td>20621</td><td>21377</td><td>22132</td><td>22513</td><td>22893</td><td>23274</td><td>23654</td><td>24035</td><td>24537</td><td>25038</td><td>25540</td><td>26041</td><td>26543</td></tr><tr><td>&hellip;</td><td>&hellip;</td><td>&hellip;</td><td>&hellip;</td><td>&hellip;</td><td>&hellip;</td><td>&hellip;</td><td>&hellip;</td><td>&hellip;</td><td>&hellip;</td><td>&hellip;</td><td>&hellip;</td><td>&hellip;</td><td>&hellip;</td><td>&hellip;</td><td>&hellip;</td><td>&hellip;</td><td>&hellip;</td><td>&hellip;</td><td>&hellip;</td><td>&hellip;</td><td>&hellip;</td><td>&hellip;</td></tr><tr><td>79058</td><td>0</td><td>0</td><td>0</td><td>0</td><td>0</td><td>0</td><td>0</td><td>0</td><td>0</td><td>0</td><td>0</td><td>0</td><td>0</td><td>0</td><td>0</td><td>0</td><td>0</td><td>0</td><td>0</td><td>0</td><td>0</td><td>0</td></tr><tr><td>79085</td><td>103</td><td>103</td><td>103</td><td>103</td><td>103</td><td>103</td><td>103</td><td>103</td><td>103</td><td>103</td><td>103</td><td>103</td><td>86</td><td>69</td><td>53</td><td>36</td><td>19</td><td>15</td><td>11</td><td>8</td><td>4</td><td>0</td></tr><tr><td>79094</td><td>99</td><td>99</td><td>99</td><td>99</td><td>99</td><td>99</td><td>99</td><td>99</td><td>99</td><td>99</td><td>99</td><td>99</td><td>93</td><td>87</td><td>82</td><td>76</td><td>70</td><td>58</td><td>47</td><td>35</td><td>24</td><td>12</td></tr><tr><td>79105</td><td>0</td><td>0</td><td>0</td><td>0</td><td>0</td><td>0</td><td>0</td><td>0</td><td>0</td><td>0</td><td>0</td><td>0</td><td>0</td><td>0</td><td>0</td><td>0</td><td>0</td><td>0</td><td>0</td><td>0</td><td>0</td><td>0</td></tr><tr><td>79258</td><td>0</td><td>0</td><td>0</td><td>0</td><td>0</td><td>0</td><td>0</td><td>0</td><td>0</td><td>0</td><td>0</td><td>0</td><td>10</td><td>20</td><td>29</td><td>39</td><td>49</td><td>54</td><td>59</td><td>64</td><td>69</td><td>74</td></tr><tr><td>79699</td><td>386</td><td>386</td><td>386</td><td>386</td><td>386</td><td>386</td><td>386</td><td>386</td><td>386</td><td>386</td><td>386</td><td>386</td><td>343</td><td>300</td><td>256</td><td>213</td><td>170</td><td>160</td><td>150</td><td>141</td><td>131</td><td>121</td></tr><tr><td>79770</td><td>0</td><td>0</td><td>0</td><td>0</td><td>0</td><td>0</td><td>0</td><td>0</td><td>0</td><td>0</td><td>0</td><td>0</td><td>8</td><td>16</td><td>25</td><td>33</td><td>41</td><td>33</td><td>25</td><td>16</td><td>8</td><td>0</td></tr><tr><td>79911</td><td>1849</td><td>1849</td><td>1849</td><td>1849</td><td>1849</td><td>1849</td><td>1849</td><td>1849</td><td>1849</td><td>1849</td><td>1849</td><td>1849</td><td>2261</td><td>2673</td><td>3084</td><td>3496</td><td>3908</td><td>4660</td><td>5412</td><td>6164</td><td>6916</td><td>7668</td></tr><tr><td>79916</td><td>3144</td><td>3144</td><td>3144</td><td>3144</td><td>3144</td><td>3144</td><td>3144</td><td>3144</td><td>3144</td><td>3144</td><td>3144</td><td>3144</td><td>3109</td><td>3074</td><td>3038</td><td>3003</td><td>2968</td><td>3280</td><td>3591</td><td>3903</td><td>4214</td><td>4526</td></tr><tr><td>79920</td><td>52</td><td>52</td><td>52</td><td>52</td><td>52</td><td>52</td><td>52</td><td>52</td><td>52</td><td>52</td><td>52</td><td>52</td><td>51</td><td>50</td><td>48</td><td>47</td><td>46</td><td>38</td><td>30</td><td>23</td><td>15</td><td>7</td></tr><tr><td>79928</td><td>44205</td><td>44205</td><td>44205</td><td>44205</td><td>44205</td><td>44205</td><td>44205</td><td>44205</td><td>44205</td><td>44205</td><td>44205</td><td>44205</td><td>46847</td><td>49489</td><td>52131</td><td>54773</td><td>57415</td><td>61210</td><td>65006</td><td>68801</td><td>72597</td><td>76392</td></tr><tr><td>79942</td><td>0</td><td>0</td><td>0</td><td>0</td><td>0</td><td>0</td><td>0</td><td>0</td><td>0</td><td>0</td><td>0</td><td>0</td><td>4</td><td>7</td><td>11</td><td>14</td><td>18</td><td>18</td><td>18</td><td>18</td><td>18</td><td>18</td></tr></tbody></table></div>"
      ],
      "text/plain": [
       "shape: (1_939, 23)\n",
       "┌─────────┬───────┬───────┬───────┬───┬───────┬───────┬───────┬───────┐\n",
       "│ PAT_ZIP ┆ 2000  ┆ 2001  ┆ 2002  ┆ … ┆ 2018  ┆ 2019  ┆ 2020  ┆ 2021  │\n",
       "│ ---     ┆ ---   ┆ ---   ┆ ---   ┆   ┆ ---   ┆ ---   ┆ ---   ┆ ---   │\n",
       "│ i64     ┆ i64   ┆ i64   ┆ i64   ┆   ┆ i64   ┆ i64   ┆ i64   ┆ i64   │\n",
       "╞═════════╪═══════╪═══════╪═══════╪═══╪═══════╪═══════╪═══════╪═══════╡\n",
       "│ 73949   ┆ 1866  ┆ 1866  ┆ 1866  ┆ … ┆ 1662  ┆ 1561  ┆ 1459  ┆ 1357  │\n",
       "│ 75001   ┆ 8175  ┆ 8569  ┆ 8963  ┆ … ┆ 15167 ┆ 15541 ┆ 15914 ┆ 16287 │\n",
       "│ 75002   ┆ 37171 ┆ 39444 ┆ 41717 ┆ … ┆ 69759 ┆ 70206 ┆ 70654 ┆ 71102 │\n",
       "│ 75006   ┆ 45990 ┆ 45985 ┆ 45979 ┆ … ┆ 49264 ┆ 48878 ┆ 48491 ┆ 48104 │\n",
       "│ …       ┆ …     ┆ …     ┆ …     ┆ … ┆ …     ┆ …     ┆ …     ┆ …     │\n",
       "│ 79916   ┆ 3144  ┆ 3144  ┆ 3144  ┆ … ┆ 3591  ┆ 3903  ┆ 4214  ┆ 4526  │\n",
       "│ 79920   ┆ 52    ┆ 52    ┆ 52    ┆ … ┆ 30    ┆ 23    ┆ 15    ┆ 7     │\n",
       "│ 79928   ┆ 44205 ┆ 44205 ┆ 44205 ┆ … ┆ 65006 ┆ 68801 ┆ 72597 ┆ 76392 │\n",
       "│ 79942   ┆ 0     ┆ 0     ┆ 0     ┆ … ┆ 18    ┆ 18    ┆ 18    ┆ 18    │\n",
       "└─────────┴───────┴───────┴───────┴───┴───────┴───────┴───────┴───────┘"
      ]
     },
     "execution_count": 34,
     "metadata": {},
     "output_type": "execute_result"
    }
   ],
   "source": [
    "zipPop = \"../assets/census/interpolatedPopulations.csv\"\n",
    "\n",
    "full_zip_population = pl.read_csv(zipPop)\n",
    "full_zip_population"
   ]
  },
  {
   "cell_type": "code",
   "execution_count": 19,
   "metadata": {},
   "outputs": [],
   "source": [
    "def interpCensus(quarter):\n",
    "    year = quarter[2:]\n",
    "    df = zip_population.select(\n",
    "        ['PAT_ZIP',year]\n",
    "    )\n",
    "    df = df.with_column({\n",
    "        'PAT_ZIP': 'PAT_ZIP',\n",
    "        year: 'population'\n",
    "    })\n",
    "\n",
    "    return df"
   ]
  },
  {
   "cell_type": "code",
   "execution_count": 21,
   "metadata": {},
   "outputs": [
    {
     "data": {
      "text/html": [
       "<div><style>\n",
       ".dataframe > thead > tr > th,\n",
       ".dataframe > tbody > tr > td {\n",
       "  text-align: right;\n",
       "  white-space: pre-wrap;\n",
       "}\n",
       "</style>\n",
       "<small>shape: (6_227, 4)</small><table border=\"1\" class=\"dataframe\"><thead><tr><th>PRINC_DIAG_CODE</th><th>Count</th><th>ICD-9</th><th>icd9cm_mult</th></tr><tr><td>str</td><td>f64</td><td>str</td><td>list[str]</td></tr></thead><tbody><tr><td>&quot;Z3800&quot;</td><td>3.940227e6</td><td>&quot;V3900&quot;</td><td>[&quot;V3000&quot;, &quot;V3900&quot;]</td></tr><tr><td>&quot;Z3801&quot;</td><td>2.099687e6</td><td>&quot;V3001&quot;</td><td>[&quot;V3001&quot;]</td></tr><tr><td>&quot;A419&quot;</td><td>1.211138e6</td><td>&quot;99591&quot;</td><td>[&quot;0389&quot;, &quot;99591&quot;]</td></tr><tr><td>&quot;J189&quot;</td><td>820711.0</td><td>&quot;486&quot;</td><td>[&quot;486&quot;]</td></tr><tr><td>&quot;Z5189&quot;</td><td>676973.0</td><td>&quot;V589&quot;</td><td>[&quot;V5889&quot;, &quot;V589&quot;]</td></tr><tr><td>&quot;O3421&quot;</td><td>627506.0</td><td>&quot;65423&quot;</td><td>[&quot;65421&quot;, &quot;65423&quot;]</td></tr><tr><td>&quot;J441&quot;</td><td>500761.0</td><td>&quot;49322&quot;</td><td>[&quot;49121&quot;, &quot;49322&quot;]</td></tr><tr><td>&quot;I2510&quot;</td><td>488267.0</td><td>&quot;4292&quot;</td><td>[&quot;41401&quot;, &quot;4292&quot;]</td></tr><tr><td>&quot;N179&quot;</td><td>470121.0</td><td>&quot;5849&quot;</td><td>[&quot;5849&quot;]</td></tr><tr><td>&quot;I214&quot;</td><td>464760.0</td><td>&quot;41071&quot;</td><td>[&quot;41071&quot;]</td></tr><tr><td>&quot;N390&quot;</td><td>449951.0</td><td>&quot;5990&quot;</td><td>[&quot;5990&quot;]</td></tr><tr><td>&quot;O80&quot;</td><td>446062.0</td><td>&quot;650&quot;</td><td>[&quot;650&quot;]</td></tr><tr><td>&hellip;</td><td>&hellip;</td><td>&hellip;</td><td>&hellip;</td></tr><tr><td>&quot;Z6836&quot;</td><td>2.0</td><td>&quot;V8536&quot;</td><td>[&quot;V8536&quot;]</td></tr><tr><td>&quot;A211&quot;</td><td>2.0</td><td>&quot;0213&quot;</td><td>[&quot;0213&quot;]</td></tr><tr><td>&quot;H5050&quot;</td><td>2.0</td><td>&quot;37840&quot;</td><td>[&quot;37840&quot;]</td></tr><tr><td>&quot;Z463&quot;</td><td>2.0</td><td>&quot;V523&quot;</td><td>[&quot;V523&quot;]</td></tr><tr><td>&quot;Z449&quot;</td><td>2.0</td><td>&quot;V529&quot;</td><td>[&quot;V529&quot;]</td></tr><tr><td>&quot;R41842&quot;</td><td>2.0</td><td>&quot;79953&quot;</td><td>[&quot;79953&quot;]</td></tr><tr><td>&quot;L448&quot;</td><td>2.0</td><td>&quot;7098&quot;</td><td>[&quot;6968&quot;, &quot;7098&quot;]</td></tr><tr><td>&quot;A360&quot;</td><td>2.0</td><td>&quot;0320&quot;</td><td>[&quot;0320&quot;]</td></tr><tr><td>&quot;A240&quot;</td><td>2.0</td><td>&quot;024&quot;</td><td>[&quot;024&quot;]</td></tr><tr><td>&quot;Z569&quot;</td><td>2.0</td><td>&quot;V621&quot;</td><td>[&quot;V621&quot;]</td></tr><tr><td>&quot;L250&quot;</td><td>2.0</td><td>&quot;69281&quot;</td><td>[&quot;69281&quot;]</td></tr><tr><td>&quot;G8102&quot;</td><td>2.0</td><td>&quot;34201&quot;</td><td>[&quot;34201&quot;]</td></tr></tbody></table></div>"
      ],
      "text/plain": [
       "shape: (6_227, 4)\n",
       "┌─────────────────┬────────────┬───────┬────────────────────┐\n",
       "│ PRINC_DIAG_CODE ┆ Count      ┆ ICD-9 ┆ icd9cm_mult        │\n",
       "│ ---             ┆ ---        ┆ ---   ┆ ---                │\n",
       "│ str             ┆ f64        ┆ str   ┆ list[str]          │\n",
       "╞═════════════════╪════════════╪═══════╪════════════════════╡\n",
       "│ Z3800           ┆ 3.940227e6 ┆ V3900 ┆ [\"V3000\", \"V3900\"] │\n",
       "│ Z3801           ┆ 2.099687e6 ┆ V3001 ┆ [\"V3001\"]          │\n",
       "│ A419            ┆ 1.211138e6 ┆ 99591 ┆ [\"0389\", \"99591\"]  │\n",
       "│ J189            ┆ 820711.0   ┆ 486   ┆ [\"486\"]            │\n",
       "│ …               ┆ …          ┆ …     ┆ …                  │\n",
       "│ A240            ┆ 2.0        ┆ 024   ┆ [\"024\"]            │\n",
       "│ Z569            ┆ 2.0        ┆ V621  ┆ [\"V621\"]           │\n",
       "│ L250            ┆ 2.0        ┆ 69281 ┆ [\"69281\"]          │\n",
       "│ G8102           ┆ 2.0        ┆ 34201 ┆ [\"34201\"]          │\n",
       "└─────────────────┴────────────┴───────┴────────────────────┘"
      ]
     },
     "execution_count": 21,
     "metadata": {},
     "output_type": "execute_result"
    }
   ],
   "source": [
    "import pandas as pd\n",
    "\n",
    "icd = pd.read_pickle('../assets/ICDPickle.pkl')\n",
    "icd = pl.DataFrame._from_pandas(icd)\n",
    "icd"
   ]
  },
  {
   "cell_type": "code",
   "execution_count": 132,
   "metadata": {},
   "outputs": [],
   "source": [
    "def loopICDPerQuarter(time_period, nthresh=1, icd10=True):\n",
    "    data = pl.DataFrame()\n",
    "    for ind, quarter in enumerate(time_period):\n",
    "        print(quarter)\n",
    "        hospital_df = pl.read_csv(f\"{hospital_data}PUDF_base1_{quarter}_tab.csv\", infer_schema_length=0)\n",
    "        hospital_df = (hospital_df\n",
    "                        # .filter(~(pl.col('PAT_ZIP').str.ends_with('.0')))\n",
    "                        .with_columns(pl.col('PAT_ZIP').str.replace(r'\\.0$',''))\n",
    "                        .filter(pl.col('PAT_ZIP') != '`')\n",
    "                        .filter(pl.col('PAT_ZIP').str.lengths() == 5)\n",
    "                        .with_columns(pl.col('PAT_ZIP').cast(pl.Int64))\n",
    "        )\n",
    "        # print(hospital_df.glimpse())\n",
    "        # zip_population = interpCensus(quarter)\n",
    "        year = quarter[2:]\n",
    "        zip_population = (full_zip_population\n",
    "                          .select(['PAT_ZIP',year])\n",
    "                          .rename({year: 'population'})\n",
    "        )\n",
    "        # print(zip_population.glimpse())\n",
    "\n",
    "        if icd10 == True:\n",
    "            codes = icd['PRINC_DIAG_CODE']\n",
    "        else:\n",
    "            codes = icd['ICD-9']\n",
    "\n",
    "        for sind, icd_code in enumerate(codes[:2]):\n",
    "            os.makedirs(f'icd10/{icd[\"PRINC_DIAG_CODE\"][sind]}', exist_ok=True)\n",
    "\n",
    "            base_df = pl.DataFrame()\n",
    "            if icd10 == False:\n",
    "                for item in icd['icd9cm_mult'][sind]: \n",
    "                    print(icd_code)\n",
    "                    icd_df = (hospital_df\n",
    "                              .filter(hospital_df['PRINC_DIAG_CODE'] == item)\n",
    "                              .group_by(['PAT_ZIP']).count()\n",
    "                              .sort('count', descending=True)\n",
    "                              .rename({'count': 'ICD'})\n",
    "                              .join(zip_population, on='PAT_ZIP')\n",
    "                              .with_columns((pl.col('ICD')/pl.col('population'))\n",
    "                                            .alias('normalized'))                        \n",
    "                              .filter(pl.col('ICD') >= nthresh)\n",
    "                    )\n",
    "                    print(icd_df.glimpse())\n",
    "\n",
    "                    base_df = pl.concat([base_df, icd_df])\n",
    "            else:\n",
    "                icd_df = (hospital_df\n",
    "                              .filter(hospital_df['PRINC_DIAG_CODE'] == icd_code)\n",
    "                              .group_by(['PAT_ZIP']).count()\n",
    "                              .sort('count', descending=True)\n",
    "                              .rename({'count': 'ICD'})\n",
    "                              .join(zip_population, on='PAT_ZIP')\n",
    "                              .with_columns((pl.col('ICD')/pl.col('population'))\n",
    "                                            .alias('normalized'))                              \n",
    "                              .filter(pl.col('ICD') >= nthresh)\n",
    "                    )\n",
    "            base_df.write_csv(f'./icd10/{icd[\"PRINC_DIAG_CODE\"][sind]}/{quarter}.csv')\n",
    "        \n",
    "            # del hospital_df\n",
    "    del hospital_df\n",
    "\n",
    "    return data\n",
    "\n"
   ]
  },
  {
   "cell_type": "code",
   "execution_count": 57,
   "metadata": {},
   "outputs": [],
   "source": [
    "start_year = 2005\n",
    "end_year = 2022\n",
    "\n",
    "hospital_quarters = [f\"{quarter}q{year}\" for year in range(start_year, end_year + 1) for quarter in range(1, 5) if not (year == end_year and quarter > 2)]\n",
    "hospital_quarters = hospital_quarters[:-1]\n",
    "icd9_subset = hospital_quarters[hospital_quarters.index(f'1q{start_year}'):hospital_quarters.index('4q2015')]\n",
    "icd10_subset = hospital_quarters[hospital_quarters.index('4q2015'):hospital_quarters.index(f'1q{end_year}')]"
   ]
  },
  {
   "cell_type": "code",
   "execution_count": 133,
   "metadata": {},
   "outputs": [
    {
     "name": "stdout",
     "output_type": "stream",
     "text": [
      "1q2005\n",
      "V3900\n",
      "Rows: 1421\n",
      "Columns: 4\n",
      "$ PAT_ZIP    <i64> 75001, 75002, 75006, 75007, 75009, 75010, 75013, 75019, 75020, 75021\n",
      "$ ICD        <u32> 44, 130, 143, 92, 9, 47, 64, 75, 44, 8\n",
      "$ population <i64> 10145, 48536, 45963, 50613, 6506, 17511, 19073, 37165, 22167, 7920\n",
      "$ normalized <f64> 0.004337111877772301, 0.0026784242624031647, 0.0031111981376324436, 0.0018177148163515302, 0.0013833384568090992, 0.0026840271829135973, 0.003355528757930058, 0.002018027714247276, 0.001984932557405152, 0.00101010101010101\n",
      "\n",
      "None\n",
      "V3900\n",
      "Rows: 0\n",
      "Columns: 4\n",
      "$ PAT_ZIP    <i64> \n",
      "$ ICD        <u32> \n",
      "$ population <i64> \n",
      "$ normalized <f64> \n",
      "\n",
      "None\n",
      "V3001\n",
      "Rows: 1317\n",
      "Columns: 4\n",
      "$ PAT_ZIP    <i64> 75001, 75002, 75006, 75007, 75009, 75010, 75013, 75019, 75020, 75021\n",
      "$ ICD        <u32> 27, 96, 44, 53, 4, 24, 39, 41, 21, 3\n",
      "$ population <i64> 10145, 48536, 45963, 50613, 6506, 17511, 19073, 37165, 22167, 7920\n",
      "$ normalized <f64> 0.002661409561360276, 0.0019779133014669525, 0.0009572917346561365, 0.001047161796376425, 0.0006148170919151552, 0.0013705670721260923, 0.0020447753368636294, 0.0011031884837885107, 0.0009473541751251861, 0.0003787878787878788\n",
      "\n",
      "None\n"
     ]
    },
    {
     "data": {
      "text/html": [
       "<div><style>\n",
       ".dataframe > thead > tr > th,\n",
       ".dataframe > tbody > tr > td {\n",
       "  text-align: right;\n",
       "  white-space: pre-wrap;\n",
       "}\n",
       "</style>\n",
       "<small>shape: (0, 0)</small><table border=\"1\" class=\"dataframe\"><thead><tr></tr><tr></tr></thead><tbody></tbody></table></div>"
      ],
      "text/plain": [
       "shape: (0, 0)\n",
       "┌┐\n",
       "╞╡\n",
       "└┘"
      ]
     },
     "execution_count": 133,
     "metadata": {},
     "output_type": "execute_result"
    }
   ],
   "source": [
    "loopICDPerQuarter(icd9_subset[:1], icd10=False)"
   ]
  },
  {
   "cell_type": "code",
   "execution_count": 16,
   "metadata": {},
   "outputs": [
    {
     "data": {
      "text/html": [
       "<div><style>\n",
       ".dataframe > thead > tr > th,\n",
       ".dataframe > tbody > tr > td {\n",
       "  text-align: right;\n",
       "  white-space: pre-wrap;\n",
       "}\n",
       "</style>\n",
       "<small>shape: (254, 2)</small><table border=\"1\" class=\"dataframe\"><thead><tr><th>PAT_ZIP</th><th>count</th></tr><tr><td>i64</td><td>u32</td></tr></thead><tbody><tr><td>79601</td><td>12</td></tr><tr><td>79603</td><td>8</td></tr><tr><td>77469</td><td>5</td></tr><tr><td>79604</td><td>4</td></tr><tr><td>88888</td><td>4</td></tr><tr><td>78660</td><td>4</td></tr><tr><td>79510</td><td>4</td></tr><tr><td>78669</td><td>4</td></tr><tr><td>76712</td><td>3</td></tr><tr><td>77340</td><td>3</td></tr><tr><td>79606</td><td>3</td></tr><tr><td>75243</td><td>3</td></tr><tr><td>&hellip;</td><td>&hellip;</td></tr><tr><td>76513</td><td>1</td></tr><tr><td>79766</td><td>1</td></tr><tr><td>76442</td><td>1</td></tr><tr><td>77587</td><td>1</td></tr><tr><td>77009</td><td>1</td></tr><tr><td>78220</td><td>1</td></tr><tr><td>75087</td><td>1</td></tr><tr><td>77488</td><td>1</td></tr><tr><td>78633</td><td>1</td></tr><tr><td>76123</td><td>1</td></tr><tr><td>77564</td><td>1</td></tr><tr><td>76016</td><td>1</td></tr></tbody></table></div>"
      ],
      "text/plain": [
       "shape: (254, 2)\n",
       "┌─────────┬───────┐\n",
       "│ PAT_ZIP ┆ count │\n",
       "│ ---     ┆ ---   │\n",
       "│ i64     ┆ u32   │\n",
       "╞═════════╪═══════╡\n",
       "│ 79601   ┆ 12    │\n",
       "│ 79603   ┆ 8     │\n",
       "│ 77469   ┆ 5     │\n",
       "│ 79604   ┆ 4     │\n",
       "│ …       ┆ …     │\n",
       "│ 78633   ┆ 1     │\n",
       "│ 76123   ┆ 1     │\n",
       "│ 77564   ┆ 1     │\n",
       "│ 76016   ┆ 1     │\n",
       "└─────────┴───────┘"
      ]
     },
     "execution_count": 16,
     "metadata": {},
     "output_type": "execute_result"
    }
   ],
   "source": [
    "temp_df = (hospital_df\n",
    " .filter(~(pl.col('PAT_ZIP').str.ends_with('.0')))\n",
    " .filter(pl.col('PAT_ZIP') != '`')\n",
    " .filter(pl.col('PAT_ZIP').str.lengths() == 5)\n",
    " .with_columns(pl.col('PAT_ZIP').cast(pl.Int64))\n",
    " .filter(pl.col('SEX_CODE') == 'M')\n",
    " .filter(pl.col('PRINC_DIAG_CODE') == 'A4189')\n",
    ".group_by([\"PAT_ZIP\"]).count()\n",
    ".sort('count', descending=True)\n",
    " )\n",
    "temp_df"
   ]
  },
  {
   "cell_type": "code",
   "execution_count": 11,
   "metadata": {},
   "outputs": [],
   "source": [
    "def groupDF(df, icd_code):\n",
    "    '''\n",
    "    This function takes in a Polars DataFrame, finds out which patients have the given icd code,\n",
    "    then counts by zip code and returns this groupby DataFrame.\n",
    "    '''\n",
    "    # Convert the column to String type if not already\n",
    "    df = df.with_column(df['PRINC_DIAG_CODE'].cast(pl.Object))\n",
    "    \n",
    "    # Filter rows with the specified icd_code\n",
    "    filtered_df = df.filter(df['PRINC_DIAG_CODE'] == icd_code)\n",
    "    \n",
    "    # Group by 'PAT_ZIP' and count the occurrences, then sort by count in descending order\n",
    "    grouped_df = filtered_df.groupby('PAT_ZIP').agg(pl.sum('PRINC_DIAG_CODE').alias('ICD')).sort('ICD', reverse=True)\n",
    "    \n",
    "    return grouped_df\n",
    "\n",
    "# Example usage:\n",
    "# Assuming you have a Polars DataFrame named 'df'"
   ]
  },
  {
   "cell_type": "code",
   "execution_count": 14,
   "metadata": {},
   "outputs": [
    {
     "data": {
      "text/plain": [
       "polars.dataframe.frame.DataFrame"
      ]
     },
     "execution_count": 14,
     "metadata": {},
     "output_type": "execute_result"
    }
   ],
   "source": [
    "type(temp_df)"
   ]
  },
  {
   "cell_type": "code",
   "execution_count": 13,
   "metadata": {},
   "outputs": [
    {
     "ename": "AttributeError",
     "evalue": "'DataFrame' object has no attribute 'with_column'",
     "output_type": "error",
     "traceback": [
      "\u001b[1;31m---------------------------------------------------------------------------\u001b[0m",
      "\u001b[1;31mAttributeError\u001b[0m                            Traceback (most recent call last)",
      "\u001b[1;32md:\\GitHub\\environmentalSocialHealth\\notebooks\\usingPolars.ipynb Cell 8\u001b[0m line \u001b[0;36m1\n\u001b[1;32m----> <a href='vscode-notebook-cell:/d%3A/GitHub/environmentalSocialHealth/notebooks/usingPolars.ipynb#X21sZmlsZQ%3D%3D?line=0'>1</a>\u001b[0m groupDF(temp_df,\u001b[39m'\u001b[39;49m\u001b[39mA4189\u001b[39;49m\u001b[39m'\u001b[39;49m)\n",
      "\u001b[1;32md:\\GitHub\\environmentalSocialHealth\\notebooks\\usingPolars.ipynb Cell 8\u001b[0m line \u001b[0;36m7\n\u001b[0;32m      <a href='vscode-notebook-cell:/d%3A/GitHub/environmentalSocialHealth/notebooks/usingPolars.ipynb#X21sZmlsZQ%3D%3D?line=1'>2</a>\u001b[0m \u001b[39m\u001b[39m\u001b[39m'''\u001b[39;00m\n\u001b[0;32m      <a href='vscode-notebook-cell:/d%3A/GitHub/environmentalSocialHealth/notebooks/usingPolars.ipynb#X21sZmlsZQ%3D%3D?line=2'>3</a>\u001b[0m \u001b[39mThis function takes in a Polars DataFrame, finds out which patients have the given icd code,\u001b[39;00m\n\u001b[0;32m      <a href='vscode-notebook-cell:/d%3A/GitHub/environmentalSocialHealth/notebooks/usingPolars.ipynb#X21sZmlsZQ%3D%3D?line=3'>4</a>\u001b[0m \u001b[39mthen counts by zip code and returns this groupby DataFrame.\u001b[39;00m\n\u001b[0;32m      <a href='vscode-notebook-cell:/d%3A/GitHub/environmentalSocialHealth/notebooks/usingPolars.ipynb#X21sZmlsZQ%3D%3D?line=4'>5</a>\u001b[0m \u001b[39m'''\u001b[39;00m\n\u001b[0;32m      <a href='vscode-notebook-cell:/d%3A/GitHub/environmentalSocialHealth/notebooks/usingPolars.ipynb#X21sZmlsZQ%3D%3D?line=5'>6</a>\u001b[0m \u001b[39m# Convert the column to String type if not already\u001b[39;00m\n\u001b[1;32m----> <a href='vscode-notebook-cell:/d%3A/GitHub/environmentalSocialHealth/notebooks/usingPolars.ipynb#X21sZmlsZQ%3D%3D?line=6'>7</a>\u001b[0m df \u001b[39m=\u001b[39m df\u001b[39m.\u001b[39;49mwith_column(df[\u001b[39m'\u001b[39m\u001b[39mPRINC_DIAG_CODE\u001b[39m\u001b[39m'\u001b[39m]\u001b[39m.\u001b[39mcast(pl\u001b[39m.\u001b[39mObject))\n\u001b[0;32m      <a href='vscode-notebook-cell:/d%3A/GitHub/environmentalSocialHealth/notebooks/usingPolars.ipynb#X21sZmlsZQ%3D%3D?line=8'>9</a>\u001b[0m \u001b[39m# Filter rows with the specified icd_code\u001b[39;00m\n\u001b[0;32m     <a href='vscode-notebook-cell:/d%3A/GitHub/environmentalSocialHealth/notebooks/usingPolars.ipynb#X21sZmlsZQ%3D%3D?line=9'>10</a>\u001b[0m filtered_df \u001b[39m=\u001b[39m df\u001b[39m.\u001b[39mfilter(df[\u001b[39m'\u001b[39m\u001b[39mPRINC_DIAG_CODE\u001b[39m\u001b[39m'\u001b[39m] \u001b[39m==\u001b[39m icd_code)\n",
      "\u001b[1;31mAttributeError\u001b[0m: 'DataFrame' object has no attribute 'with_column'"
     ]
    }
   ],
   "source": [
    "groupDF(temp_df,'A4189')"
   ]
  },
  {
   "cell_type": "code",
   "execution_count": 6,
   "metadata": {},
   "outputs": [
    {
     "data": {
      "text/html": [
       "<div><style>\n",
       ".dataframe > thead > tr > th,\n",
       ".dataframe > tbody > tr > td {\n",
       "  text-align: right;\n",
       "  white-space: pre-wrap;\n",
       "}\n",
       "</style>\n",
       "<small>shape: (3_452, 3)</small><table border=\"1\" class=\"dataframe\"><thead><tr><th>PAT_ZIP</th><th>SEX_CODE</th><th>count</th></tr><tr><td>str</td><td>list[str]</td><td>u32</td></tr></thead><tbody><tr><td>&quot;76201&quot;</td><td>[&quot;M&quot;, &quot;M&quot;, … &quot;M&quot;]</td><td>168</td></tr><tr><td>&quot;75933.0&quot;</td><td>[&quot;M&quot;, &quot;M&quot;, … &quot;M&quot;]</td><td>8</td></tr><tr><td>&quot;79022.0&quot;</td><td>[&quot;M&quot;, &quot;M&quot;, … &quot;M&quot;]</td><td>52</td></tr><tr><td>&quot;78121&quot;</td><td>[&quot;M&quot;, &quot;M&quot;, … &quot;M&quot;]</td><td>101</td></tr><tr><td>&quot;75931.0&quot;</td><td>[&quot;M&quot;, &quot;M&quot;, … &quot;M&quot;]</td><td>17</td></tr><tr><td>&quot;76050.0&quot;</td><td>[&quot;M&quot;, &quot;M&quot;, … &quot;M&quot;]</td><td>10</td></tr><tr><td>&quot;77426.0&quot;</td><td>[&quot;M&quot;, &quot;M&quot;, … &quot;M&quot;]</td><td>8</td></tr><tr><td>&quot;77447.0&quot;</td><td>[&quot;M&quot;, &quot;M&quot;, … &quot;M&quot;]</td><td>48</td></tr><tr><td>&quot;76679&quot;</td><td>[&quot;M&quot;, &quot;M&quot;, … &quot;M&quot;]</td><td>9</td></tr><tr><td>&quot;77377.0&quot;</td><td>[&quot;M&quot;, &quot;M&quot;, … &quot;M&quot;]</td><td>102</td></tr><tr><td>&quot;77475&quot;</td><td>[&quot;M&quot;, &quot;M&quot;, … &quot;M&quot;]</td><td>13</td></tr><tr><td>&quot;79241.0&quot;</td><td>[&quot;M&quot;, &quot;M&quot;, … &quot;M&quot;]</td><td>24</td></tr><tr><td>&hellip;</td><td>&hellip;</td><td>&hellip;</td></tr><tr><td>&quot;75180.0&quot;</td><td>[&quot;M&quot;, &quot;M&quot;, … &quot;M&quot;]</td><td>52</td></tr><tr><td>&quot;78827.0&quot;</td><td>[&quot;M&quot;, &quot;M&quot;, … &quot;M&quot;]</td><td>6</td></tr><tr><td>&quot;77441.0&quot;</td><td>[&quot;M&quot;, &quot;M&quot;, … &quot;M&quot;]</td><td>14</td></tr><tr><td>&quot;77089.0&quot;</td><td>[&quot;M&quot;, &quot;M&quot;, … &quot;M&quot;]</td><td>221</td></tr><tr><td>&quot;77706.0&quot;</td><td>[&quot;M&quot;, &quot;M&quot;, … &quot;M&quot;]</td><td>90</td></tr><tr><td>&quot;79935&quot;</td><td>[&quot;M&quot;, &quot;M&quot;, … &quot;M&quot;]</td><td>160</td></tr><tr><td>&quot;76016&quot;</td><td>[&quot;M&quot;, &quot;M&quot;, … &quot;M&quot;]</td><td>256</td></tr><tr><td>&quot;78341.0&quot;</td><td>[&quot;M&quot;]</td><td>1</td></tr><tr><td>&quot;79849.0&quot;</td><td>[&quot;M&quot;, &quot;M&quot;, … &quot;M&quot;]</td><td>18</td></tr><tr><td>&quot;77054&quot;</td><td>[&quot;M&quot;, &quot;M&quot;, … &quot;M&quot;]</td><td>160</td></tr><tr><td>&quot;75230.0&quot;</td><td>[&quot;M&quot;, &quot;M&quot;, … &quot;M&quot;]</td><td>31</td></tr><tr><td>&quot;75935.0&quot;</td><td>[&quot;M&quot;, &quot;M&quot;, … &quot;M&quot;]</td><td>48</td></tr></tbody></table></div>"
      ],
      "text/plain": [
       "shape: (3_452, 3)\n",
       "┌─────────┬───────────────────┬───────┐\n",
       "│ PAT_ZIP ┆ SEX_CODE          ┆ count │\n",
       "│ ---     ┆ ---               ┆ ---   │\n",
       "│ str     ┆ list[str]         ┆ u32   │\n",
       "╞═════════╪═══════════════════╪═══════╡\n",
       "│ 76201   ┆ [\"M\", \"M\", … \"M\"] ┆ 168   │\n",
       "│ 75933.0 ┆ [\"M\", \"M\", … \"M\"] ┆ 8     │\n",
       "│ 79022.0 ┆ [\"M\", \"M\", … \"M\"] ┆ 52    │\n",
       "│ 78121   ┆ [\"M\", \"M\", … \"M\"] ┆ 101   │\n",
       "│ …       ┆ …                 ┆ …     │\n",
       "│ 79849.0 ┆ [\"M\", \"M\", … \"M\"] ┆ 18    │\n",
       "│ 77054   ┆ [\"M\", \"M\", … \"M\"] ┆ 160   │\n",
       "│ 75230.0 ┆ [\"M\", \"M\", … \"M\"] ┆ 31    │\n",
       "│ 75935.0 ┆ [\"M\", \"M\", … \"M\"] ┆ 48    │\n",
       "└─────────┴───────────────────┴───────┘"
      ]
     },
     "execution_count": 6,
     "metadata": {},
     "output_type": "execute_result"
    }
   ],
   "source": [
    "# lf = pl.LazyFrame({\"a\": [1, 2, 3], \"b\": [\"x\", None, \"z\"]})\n",
    "lf = pl.scan_csv(random_df, infer_schema_length=0)\n",
    "\n",
    "res = pl.SQLContext(frame=lf).execute(\n",
    "\n",
    "    \"SELECT PAT_ZIP, SEX_CODE, COUNT(*) as count FROM frame WHERE SEX_CODE = 'M' GROUP BY PAT_ZIP;\"\n",
    "\n",
    ")\n",
    "\n",
    "res.collect()"
   ]
  },
  {
   "cell_type": "code",
   "execution_count": null,
   "metadata": {},
   "outputs": [],
   "source": []
  }
 ],
 "metadata": {
  "kernelspec": {
   "display_name": "hospitalization",
   "language": "python",
   "name": "python3"
  },
  "language_info": {
   "codemirror_mode": {
    "name": "ipython",
    "version": 3
   },
   "file_extension": ".py",
   "mimetype": "text/x-python",
   "name": "python",
   "nbconvert_exporter": "python",
   "pygments_lexer": "ipython3",
   "version": "3.9.16"
  },
  "orig_nbformat": 4
 },
 "nbformat": 4,
 "nbformat_minor": 2
}
