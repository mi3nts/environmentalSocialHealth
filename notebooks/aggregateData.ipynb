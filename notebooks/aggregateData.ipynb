{
 "cells": [
  {
   "cell_type": "code",
   "execution_count": 1,
   "metadata": {},
   "outputs": [],
   "source": [
    "import polars as pl\n",
    "import pandas as pd\n",
    "import os"
   ]
  }
 ],
 "metadata": {
  "interpreter": {
   "hash": "bceb9cf4561ca3ef8bb7a721829de9548ce9f86c87a3b466c7f7299bf7881a99"
  },
  "kernelspec": {
   "display_name": "Python 3.9.16 ('hospitalization')",
   "language": "python",
   "name": "python3"
  },
  "language_info": {
   "codemirror_mode": {
    "name": "ipython",
    "version": 3
   },
   "file_extension": ".py",
   "mimetype": "text/x-python",
   "name": "python",
   "nbconvert_exporter": "python",
   "pygments_lexer": "ipython3",
   "version": "3.9.16"
  },
  "orig_nbformat": 4
 },
 "nbformat": 4,
 "nbformat_minor": 2
}
