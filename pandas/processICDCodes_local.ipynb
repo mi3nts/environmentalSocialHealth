{
 "cells": [
  {
   "cell_type": "code",
   "execution_count": 1,
   "metadata": {},
   "outputs": [],
   "source": [
    "import pandas as pd\n",
    "import os \n",
    "import xarray as xr\n",
    "import geopandas as gpd\n",
    "import numpy as np\n",
    "\n",
    "root = \"./CAMS/\"\n",
    "units = \"../assets/CAMS_units.csv\"\n",
    "zip_2010 = \"./tx_texas_zip_codes_geo.min.json\"\n",
    "hospital_data = 'D:/GitHub/THCICAnalysis/Hospital/'\n",
    "census_data = \"./Census/\"\n",
    "zipPop = \"../assets/census/interpolatedPopulations.csv\""
   ]
  },
  {
   "cell_type": "code",
   "execution_count": 17,
   "metadata": {},
   "outputs": [
    {
     "data": {
      "text/plain": [
       "'d:\\\\GitHub\\\\environmentalSocialHealth\\\\pandas\\\\PUDF_base1_4q2016_tab.csv'"
      ]
     },
     "execution_count": 17,
     "metadata": {},
     "output_type": "execute_result"
    }
   ],
   "source": [
    "os.path.abspath([i for i in os.listdir(hospital_data) if 'base1_4q2016_tab.csv' in i][0])"
   ]
  },
  {
   "cell_type": "code",
   "execution_count": 20,
   "metadata": {},
   "outputs": [
    {
     "data": {
      "text/plain": [
       "'/media/teamlary/ssd/Discharge Data/Inpatient/Data/PUDF_base1_1q2005_tab.csv'"
      ]
     },
     "execution_count": 20,
     "metadata": {},
     "output_type": "execute_result"
    }
   ],
   "source": [
    "[hospital_data+i for i in os.listdir(hospital_data) if 'base1_1q2005_tab.csv' in i][0]"
   ]
  },
  {
   "cell_type": "code",
   "execution_count": 3,
   "metadata": {},
   "outputs": [
    {
     "name": "stderr",
     "output_type": "stream",
     "text": [
      "C:\\Users\\Ash\\AppData\\Local\\Temp\\ipykernel_35956\\3493168791.py:1: DtypeWarning: Columns (3,4,5,6,7,8,9,10,14,15,17,18,24,25,26,28,76,77,78,79,80,81,82,83,84,85,86,87,88,89,90,91,94,97,168,169,170,171,172,173,174,177,178,179,180,185,186,187,188,189,190,191,192,193,194,195,197,199,201,203,209,210,211,213,214,221,223,225,227,229,231,233,235) have mixed types. Specify dtype option on import or set low_memory=False.\n",
      "  pd.read_csv([hospital_data+i for i in os.listdir(hospital_data) if 'base1_1q2005_tab.csv' in i][0])\n"
     ]
    },
    {
     "data": {
      "text/html": [
       "<div>\n",
       "<style scoped>\n",
       "    .dataframe tbody tr th:only-of-type {\n",
       "        vertical-align: middle;\n",
       "    }\n",
       "\n",
       "    .dataframe tbody tr th {\n",
       "        vertical-align: top;\n",
       "    }\n",
       "\n",
       "    .dataframe thead th {\n",
       "        text-align: right;\n",
       "    }\n",
       "</style>\n",
       "<table border=\"1\" class=\"dataframe\">\n",
       "  <thead>\n",
       "    <tr style=\"text-align: right;\">\n",
       "      <th></th>\n",
       "      <th>DISCHARGE_QTR</th>\n",
       "      <th>THCIC_ID</th>\n",
       "      <th>PROVIDER_NAME</th>\n",
       "      <th>FAC_TEACHING_IND</th>\n",
       "      <th>FAC_PSYCH_IND</th>\n",
       "      <th>FAC_REHAB_IND</th>\n",
       "      <th>FAC_ACUTE_CARE_IND</th>\n",
       "      <th>FAC_SNF_IND</th>\n",
       "      <th>FAC_LONG_TERM_AC_IND</th>\n",
       "      <th>FAC_OTHER_LTC_IND</th>\n",
       "      <th>...</th>\n",
       "      <th>HCFA_MDC</th>\n",
       "      <th>APR_MDC</th>\n",
       "      <th>HCFA_DRG</th>\n",
       "      <th>APR_DRG</th>\n",
       "      <th>RISK_MORTALITY</th>\n",
       "      <th>ILLNESS_SEVERITY</th>\n",
       "      <th>ATTENDING_PHYS_UNIF_ID</th>\n",
       "      <th>OPERATING_PHYS_UNIF_ID</th>\n",
       "      <th>CERT_STATUS</th>\n",
       "      <th>RECORD_ID</th>\n",
       "    </tr>\n",
       "  </thead>\n",
       "  <tbody>\n",
       "    <tr>\n",
       "      <th>0</th>\n",
       "      <td>2005Q1</td>\n",
       "      <td>100</td>\n",
       "      <td>Austin State Hospital</td>\n",
       "      <td>NaN</td>\n",
       "      <td>X</td>\n",
       "      <td>NaN</td>\n",
       "      <td>NaN</td>\n",
       "      <td>NaN</td>\n",
       "      <td>NaN</td>\n",
       "      <td>NaN</td>\n",
       "      <td>...</td>\n",
       "      <td>19</td>\n",
       "      <td>19</td>\n",
       "      <td>425</td>\n",
       "      <td>756</td>\n",
       "      <td>1</td>\n",
       "      <td>1</td>\n",
       "      <td>9999999998</td>\n",
       "      <td>NaN</td>\n",
       "      <td>2</td>\n",
       "      <td>120050000915</td>\n",
       "    </tr>\n",
       "    <tr>\n",
       "      <th>1</th>\n",
       "      <td>2005Q1</td>\n",
       "      <td>100</td>\n",
       "      <td>Austin State Hospital</td>\n",
       "      <td>NaN</td>\n",
       "      <td>X</td>\n",
       "      <td>NaN</td>\n",
       "      <td>NaN</td>\n",
       "      <td>NaN</td>\n",
       "      <td>NaN</td>\n",
       "      <td>NaN</td>\n",
       "      <td>...</td>\n",
       "      <td>19</td>\n",
       "      <td>19</td>\n",
       "      <td>425</td>\n",
       "      <td>756</td>\n",
       "      <td>1</td>\n",
       "      <td>1</td>\n",
       "      <td>9999999998</td>\n",
       "      <td>NaN</td>\n",
       "      <td>2</td>\n",
       "      <td>120050000935</td>\n",
       "    </tr>\n",
       "    <tr>\n",
       "      <th>2</th>\n",
       "      <td>2005Q1</td>\n",
       "      <td>100</td>\n",
       "      <td>Austin State Hospital</td>\n",
       "      <td>NaN</td>\n",
       "      <td>X</td>\n",
       "      <td>NaN</td>\n",
       "      <td>NaN</td>\n",
       "      <td>NaN</td>\n",
       "      <td>NaN</td>\n",
       "      <td>NaN</td>\n",
       "      <td>...</td>\n",
       "      <td>19</td>\n",
       "      <td>19</td>\n",
       "      <td>426</td>\n",
       "      <td>754</td>\n",
       "      <td>1</td>\n",
       "      <td>1</td>\n",
       "      <td>9999999998</td>\n",
       "      <td>NaN</td>\n",
       "      <td>2</td>\n",
       "      <td>120050000615</td>\n",
       "    </tr>\n",
       "    <tr>\n",
       "      <th>3</th>\n",
       "      <td>2005Q1</td>\n",
       "      <td>100</td>\n",
       "      <td>Austin State Hospital</td>\n",
       "      <td>NaN</td>\n",
       "      <td>X</td>\n",
       "      <td>NaN</td>\n",
       "      <td>NaN</td>\n",
       "      <td>NaN</td>\n",
       "      <td>NaN</td>\n",
       "      <td>NaN</td>\n",
       "      <td>...</td>\n",
       "      <td>19</td>\n",
       "      <td>19</td>\n",
       "      <td>426</td>\n",
       "      <td>754</td>\n",
       "      <td>1</td>\n",
       "      <td>1</td>\n",
       "      <td>9999999998</td>\n",
       "      <td>NaN</td>\n",
       "      <td>2</td>\n",
       "      <td>120050000792</td>\n",
       "    </tr>\n",
       "    <tr>\n",
       "      <th>4</th>\n",
       "      <td>2005Q1</td>\n",
       "      <td>100</td>\n",
       "      <td>Austin State Hospital</td>\n",
       "      <td>NaN</td>\n",
       "      <td>X</td>\n",
       "      <td>NaN</td>\n",
       "      <td>NaN</td>\n",
       "      <td>NaN</td>\n",
       "      <td>NaN</td>\n",
       "      <td>NaN</td>\n",
       "      <td>...</td>\n",
       "      <td>19</td>\n",
       "      <td>19</td>\n",
       "      <td>426</td>\n",
       "      <td>754</td>\n",
       "      <td>1</td>\n",
       "      <td>1</td>\n",
       "      <td>9999999998</td>\n",
       "      <td>NaN</td>\n",
       "      <td>2</td>\n",
       "      <td>120050000451</td>\n",
       "    </tr>\n",
       "    <tr>\n",
       "      <th>...</th>\n",
       "      <td>...</td>\n",
       "      <td>...</td>\n",
       "      <td>...</td>\n",
       "      <td>...</td>\n",
       "      <td>...</td>\n",
       "      <td>...</td>\n",
       "      <td>...</td>\n",
       "      <td>...</td>\n",
       "      <td>...</td>\n",
       "      <td>...</td>\n",
       "      <td>...</td>\n",
       "      <td>...</td>\n",
       "      <td>...</td>\n",
       "      <td>...</td>\n",
       "      <td>...</td>\n",
       "      <td>...</td>\n",
       "      <td>...</td>\n",
       "      <td>...</td>\n",
       "      <td>...</td>\n",
       "      <td>...</td>\n",
       "      <td>...</td>\n",
       "    </tr>\n",
       "    <tr>\n",
       "      <th>715588</th>\n",
       "      <td>2005Q1</td>\n",
       "      <td>999999</td>\n",
       "      <td>Low Discharge Volume Hospital</td>\n",
       "      <td>NaN</td>\n",
       "      <td>NaN</td>\n",
       "      <td>NaN</td>\n",
       "      <td>NaN</td>\n",
       "      <td>NaN</td>\n",
       "      <td>NaN</td>\n",
       "      <td>NaN</td>\n",
       "      <td>...</td>\n",
       "      <td>8</td>\n",
       "      <td>8</td>\n",
       "      <td>537</td>\n",
       "      <td>315</td>\n",
       "      <td>1</td>\n",
       "      <td>1</td>\n",
       "      <td>9999999998</td>\n",
       "      <td>1.000000e+10</td>\n",
       "      <td>1</td>\n",
       "      <td>120050702530</td>\n",
       "    </tr>\n",
       "    <tr>\n",
       "      <th>715589</th>\n",
       "      <td>2005Q1</td>\n",
       "      <td>999999</td>\n",
       "      <td>Low Discharge Volume Hospital</td>\n",
       "      <td>NaN</td>\n",
       "      <td>NaN</td>\n",
       "      <td>NaN</td>\n",
       "      <td>NaN</td>\n",
       "      <td>NaN</td>\n",
       "      <td>NaN</td>\n",
       "      <td>NaN</td>\n",
       "      <td>...</td>\n",
       "      <td>8</td>\n",
       "      <td>8</td>\n",
       "      <td>538</td>\n",
       "      <td>315</td>\n",
       "      <td>1</td>\n",
       "      <td>1</td>\n",
       "      <td>9999999998</td>\n",
       "      <td>1.000000e+10</td>\n",
       "      <td>1</td>\n",
       "      <td>120050700725</td>\n",
       "    </tr>\n",
       "    <tr>\n",
       "      <th>715590</th>\n",
       "      <td>2005Q1</td>\n",
       "      <td>999999</td>\n",
       "      <td>Low Discharge Volume Hospital</td>\n",
       "      <td>NaN</td>\n",
       "      <td>NaN</td>\n",
       "      <td>NaN</td>\n",
       "      <td>NaN</td>\n",
       "      <td>NaN</td>\n",
       "      <td>NaN</td>\n",
       "      <td>NaN</td>\n",
       "      <td>...</td>\n",
       "      <td>4</td>\n",
       "      <td>4</td>\n",
       "      <td>542</td>\n",
       "      <td>5</td>\n",
       "      <td>3</td>\n",
       "      <td>4</td>\n",
       "      <td>9999999998</td>\n",
       "      <td>1.000000e+10</td>\n",
       "      <td>2</td>\n",
       "      <td>120050642406</td>\n",
       "    </tr>\n",
       "    <tr>\n",
       "      <th>715591</th>\n",
       "      <td>2005Q1</td>\n",
       "      <td>999999</td>\n",
       "      <td>Low Discharge Volume Hospital</td>\n",
       "      <td>NaN</td>\n",
       "      <td>NaN</td>\n",
       "      <td>NaN</td>\n",
       "      <td>NaN</td>\n",
       "      <td>NaN</td>\n",
       "      <td>NaN</td>\n",
       "      <td>NaN</td>\n",
       "      <td>...</td>\n",
       "      <td>4</td>\n",
       "      <td>4</td>\n",
       "      <td>542</td>\n",
       "      <td>5</td>\n",
       "      <td>4</td>\n",
       "      <td>4</td>\n",
       "      <td>9999999998</td>\n",
       "      <td>1.000000e+10</td>\n",
       "      <td>2</td>\n",
       "      <td>120050642410</td>\n",
       "    </tr>\n",
       "    <tr>\n",
       "      <th>715592</th>\n",
       "      <td>2005Q1</td>\n",
       "      <td>999999</td>\n",
       "      <td>Low Discharge Volume Hospital</td>\n",
       "      <td>NaN</td>\n",
       "      <td>NaN</td>\n",
       "      <td>NaN</td>\n",
       "      <td>NaN</td>\n",
       "      <td>NaN</td>\n",
       "      <td>NaN</td>\n",
       "      <td>NaN</td>\n",
       "      <td>...</td>\n",
       "      <td>4</td>\n",
       "      <td>4</td>\n",
       "      <td>542</td>\n",
       "      <td>5</td>\n",
       "      <td>4</td>\n",
       "      <td>4</td>\n",
       "      <td>9999999998</td>\n",
       "      <td>1.000000e+10</td>\n",
       "      <td>1</td>\n",
       "      <td>120050674164</td>\n",
       "    </tr>\n",
       "  </tbody>\n",
       "</table>\n",
       "<p>715593 rows × 255 columns</p>\n",
       "</div>"
      ],
      "text/plain": [
       "       DISCHARGE_QTR  THCIC_ID                  PROVIDER_NAME  \\\n",
       "0             2005Q1       100          Austin State Hospital   \n",
       "1             2005Q1       100          Austin State Hospital   \n",
       "2             2005Q1       100          Austin State Hospital   \n",
       "3             2005Q1       100          Austin State Hospital   \n",
       "4             2005Q1       100          Austin State Hospital   \n",
       "...              ...       ...                            ...   \n",
       "715588        2005Q1    999999  Low Discharge Volume Hospital   \n",
       "715589        2005Q1    999999  Low Discharge Volume Hospital   \n",
       "715590        2005Q1    999999  Low Discharge Volume Hospital   \n",
       "715591        2005Q1    999999  Low Discharge Volume Hospital   \n",
       "715592        2005Q1    999999  Low Discharge Volume Hospital   \n",
       "\n",
       "       FAC_TEACHING_IND FAC_PSYCH_IND FAC_REHAB_IND FAC_ACUTE_CARE_IND  \\\n",
       "0                   NaN             X           NaN                NaN   \n",
       "1                   NaN             X           NaN                NaN   \n",
       "2                   NaN             X           NaN                NaN   \n",
       "3                   NaN             X           NaN                NaN   \n",
       "4                   NaN             X           NaN                NaN   \n",
       "...                 ...           ...           ...                ...   \n",
       "715588              NaN           NaN           NaN                NaN   \n",
       "715589              NaN           NaN           NaN                NaN   \n",
       "715590              NaN           NaN           NaN                NaN   \n",
       "715591              NaN           NaN           NaN                NaN   \n",
       "715592              NaN           NaN           NaN                NaN   \n",
       "\n",
       "       FAC_SNF_IND FAC_LONG_TERM_AC_IND FAC_OTHER_LTC_IND  ... HCFA_MDC  \\\n",
       "0              NaN                  NaN               NaN  ...       19   \n",
       "1              NaN                  NaN               NaN  ...       19   \n",
       "2              NaN                  NaN               NaN  ...       19   \n",
       "3              NaN                  NaN               NaN  ...       19   \n",
       "4              NaN                  NaN               NaN  ...       19   \n",
       "...            ...                  ...               ...  ...      ...   \n",
       "715588         NaN                  NaN               NaN  ...        8   \n",
       "715589         NaN                  NaN               NaN  ...        8   \n",
       "715590         NaN                  NaN               NaN  ...        4   \n",
       "715591         NaN                  NaN               NaN  ...        4   \n",
       "715592         NaN                  NaN               NaN  ...        4   \n",
       "\n",
       "       APR_MDC  HCFA_DRG APR_DRG RISK_MORTALITY ILLNESS_SEVERITY  \\\n",
       "0           19       425     756              1                1   \n",
       "1           19       425     756              1                1   \n",
       "2           19       426     754              1                1   \n",
       "3           19       426     754              1                1   \n",
       "4           19       426     754              1                1   \n",
       "...        ...       ...     ...            ...              ...   \n",
       "715588       8       537     315              1                1   \n",
       "715589       8       538     315              1                1   \n",
       "715590       4       542       5              3                4   \n",
       "715591       4       542       5              4                4   \n",
       "715592       4       542       5              4                4   \n",
       "\n",
       "       ATTENDING_PHYS_UNIF_ID OPERATING_PHYS_UNIF_ID CERT_STATUS     RECORD_ID  \n",
       "0                  9999999998                    NaN           2  120050000915  \n",
       "1                  9999999998                    NaN           2  120050000935  \n",
       "2                  9999999998                    NaN           2  120050000615  \n",
       "3                  9999999998                    NaN           2  120050000792  \n",
       "4                  9999999998                    NaN           2  120050000451  \n",
       "...                       ...                    ...         ...           ...  \n",
       "715588             9999999998           1.000000e+10           1  120050702530  \n",
       "715589             9999999998           1.000000e+10           1  120050700725  \n",
       "715590             9999999998           1.000000e+10           2  120050642406  \n",
       "715591             9999999998           1.000000e+10           2  120050642410  \n",
       "715592             9999999998           1.000000e+10           1  120050674164  \n",
       "\n",
       "[715593 rows x 255 columns]"
      ]
     },
     "execution_count": 3,
     "metadata": {},
     "output_type": "execute_result"
    }
   ],
   "source": [
    "pd.read_csv([hospital_data+i for i in os.listdir(hospital_data) if 'base1_1q2005_tab.csv' in i][0])"
   ]
  },
  {
   "cell_type": "code",
   "execution_count": 4,
   "metadata": {},
   "outputs": [
    {
     "data": {
      "text/html": [
       "<div>\n",
       "<style scoped>\n",
       "    .dataframe tbody tr th:only-of-type {\n",
       "        vertical-align: middle;\n",
       "    }\n",
       "\n",
       "    .dataframe tbody tr th {\n",
       "        vertical-align: top;\n",
       "    }\n",
       "\n",
       "    .dataframe thead th {\n",
       "        text-align: right;\n",
       "    }\n",
       "</style>\n",
       "<table border=\"1\" class=\"dataframe\">\n",
       "  <thead>\n",
       "    <tr style=\"text-align: right;\">\n",
       "      <th></th>\n",
       "      <th>PAT_ZIP</th>\n",
       "      <th>2000</th>\n",
       "      <th>2001</th>\n",
       "      <th>2002</th>\n",
       "      <th>2003</th>\n",
       "      <th>2004</th>\n",
       "      <th>2005</th>\n",
       "      <th>2006</th>\n",
       "      <th>2007</th>\n",
       "      <th>2008</th>\n",
       "      <th>...</th>\n",
       "      <th>2012</th>\n",
       "      <th>2013</th>\n",
       "      <th>2014</th>\n",
       "      <th>2015</th>\n",
       "      <th>2016</th>\n",
       "      <th>2017</th>\n",
       "      <th>2018</th>\n",
       "      <th>2019</th>\n",
       "      <th>2020</th>\n",
       "      <th>2021</th>\n",
       "    </tr>\n",
       "  </thead>\n",
       "  <tbody>\n",
       "    <tr>\n",
       "      <th>0</th>\n",
       "      <td>73949</td>\n",
       "      <td>1866</td>\n",
       "      <td>1866</td>\n",
       "      <td>1866</td>\n",
       "      <td>1866</td>\n",
       "      <td>1866</td>\n",
       "      <td>1866</td>\n",
       "      <td>1866</td>\n",
       "      <td>1866</td>\n",
       "      <td>1866</td>\n",
       "      <td>...</td>\n",
       "      <td>1866</td>\n",
       "      <td>1866</td>\n",
       "      <td>1866</td>\n",
       "      <td>1866</td>\n",
       "      <td>1866</td>\n",
       "      <td>1764</td>\n",
       "      <td>1662</td>\n",
       "      <td>1561</td>\n",
       "      <td>1459</td>\n",
       "      <td>1357</td>\n",
       "    </tr>\n",
       "    <tr>\n",
       "      <th>1</th>\n",
       "      <td>75001</td>\n",
       "      <td>8175</td>\n",
       "      <td>8569</td>\n",
       "      <td>8963</td>\n",
       "      <td>9357</td>\n",
       "      <td>9751</td>\n",
       "      <td>10145</td>\n",
       "      <td>10540</td>\n",
       "      <td>10934</td>\n",
       "      <td>11328</td>\n",
       "      <td>...</td>\n",
       "      <td>12892</td>\n",
       "      <td>13274</td>\n",
       "      <td>13657</td>\n",
       "      <td>14039</td>\n",
       "      <td>14421</td>\n",
       "      <td>14794</td>\n",
       "      <td>15167</td>\n",
       "      <td>15541</td>\n",
       "      <td>15914</td>\n",
       "      <td>16287</td>\n",
       "    </tr>\n",
       "    <tr>\n",
       "      <th>2</th>\n",
       "      <td>75002</td>\n",
       "      <td>37171</td>\n",
       "      <td>39444</td>\n",
       "      <td>41717</td>\n",
       "      <td>43990</td>\n",
       "      <td>46263</td>\n",
       "      <td>48536</td>\n",
       "      <td>50810</td>\n",
       "      <td>53083</td>\n",
       "      <td>55356</td>\n",
       "      <td>...</td>\n",
       "      <td>63513</td>\n",
       "      <td>64850</td>\n",
       "      <td>66188</td>\n",
       "      <td>67525</td>\n",
       "      <td>68863</td>\n",
       "      <td>69311</td>\n",
       "      <td>69759</td>\n",
       "      <td>70206</td>\n",
       "      <td>70654</td>\n",
       "      <td>71102</td>\n",
       "    </tr>\n",
       "    <tr>\n",
       "      <th>3</th>\n",
       "      <td>75006</td>\n",
       "      <td>45990</td>\n",
       "      <td>45985</td>\n",
       "      <td>45979</td>\n",
       "      <td>45974</td>\n",
       "      <td>45969</td>\n",
       "      <td>45963</td>\n",
       "      <td>45958</td>\n",
       "      <td>45952</td>\n",
       "      <td>45947</td>\n",
       "      <td>...</td>\n",
       "      <td>46752</td>\n",
       "      <td>47574</td>\n",
       "      <td>48395</td>\n",
       "      <td>49217</td>\n",
       "      <td>50038</td>\n",
       "      <td>49651</td>\n",
       "      <td>49264</td>\n",
       "      <td>48878</td>\n",
       "      <td>48491</td>\n",
       "      <td>48104</td>\n",
       "    </tr>\n",
       "    <tr>\n",
       "      <th>4</th>\n",
       "      <td>75007</td>\n",
       "      <td>50357</td>\n",
       "      <td>50408</td>\n",
       "      <td>50460</td>\n",
       "      <td>50511</td>\n",
       "      <td>50562</td>\n",
       "      <td>50613</td>\n",
       "      <td>50665</td>\n",
       "      <td>50716</td>\n",
       "      <td>50767</td>\n",
       "      <td>...</td>\n",
       "      <td>51599</td>\n",
       "      <td>52277</td>\n",
       "      <td>52956</td>\n",
       "      <td>53634</td>\n",
       "      <td>54312</td>\n",
       "      <td>54339</td>\n",
       "      <td>54366</td>\n",
       "      <td>54394</td>\n",
       "      <td>54421</td>\n",
       "      <td>54448</td>\n",
       "    </tr>\n",
       "    <tr>\n",
       "      <th>...</th>\n",
       "      <td>...</td>\n",
       "      <td>...</td>\n",
       "      <td>...</td>\n",
       "      <td>...</td>\n",
       "      <td>...</td>\n",
       "      <td>...</td>\n",
       "      <td>...</td>\n",
       "      <td>...</td>\n",
       "      <td>...</td>\n",
       "      <td>...</td>\n",
       "      <td>...</td>\n",
       "      <td>...</td>\n",
       "      <td>...</td>\n",
       "      <td>...</td>\n",
       "      <td>...</td>\n",
       "      <td>...</td>\n",
       "      <td>...</td>\n",
       "      <td>...</td>\n",
       "      <td>...</td>\n",
       "      <td>...</td>\n",
       "      <td>...</td>\n",
       "    </tr>\n",
       "    <tr>\n",
       "      <th>1934</th>\n",
       "      <td>79911</td>\n",
       "      <td>1849</td>\n",
       "      <td>1849</td>\n",
       "      <td>1849</td>\n",
       "      <td>1849</td>\n",
       "      <td>1849</td>\n",
       "      <td>1849</td>\n",
       "      <td>1849</td>\n",
       "      <td>1849</td>\n",
       "      <td>1849</td>\n",
       "      <td>...</td>\n",
       "      <td>2261</td>\n",
       "      <td>2673</td>\n",
       "      <td>3084</td>\n",
       "      <td>3496</td>\n",
       "      <td>3908</td>\n",
       "      <td>4660</td>\n",
       "      <td>5412</td>\n",
       "      <td>6164</td>\n",
       "      <td>6916</td>\n",
       "      <td>7668</td>\n",
       "    </tr>\n",
       "    <tr>\n",
       "      <th>1935</th>\n",
       "      <td>79916</td>\n",
       "      <td>3144</td>\n",
       "      <td>3144</td>\n",
       "      <td>3144</td>\n",
       "      <td>3144</td>\n",
       "      <td>3144</td>\n",
       "      <td>3144</td>\n",
       "      <td>3144</td>\n",
       "      <td>3144</td>\n",
       "      <td>3144</td>\n",
       "      <td>...</td>\n",
       "      <td>3109</td>\n",
       "      <td>3074</td>\n",
       "      <td>3038</td>\n",
       "      <td>3003</td>\n",
       "      <td>2968</td>\n",
       "      <td>3280</td>\n",
       "      <td>3591</td>\n",
       "      <td>3903</td>\n",
       "      <td>4214</td>\n",
       "      <td>4526</td>\n",
       "    </tr>\n",
       "    <tr>\n",
       "      <th>1936</th>\n",
       "      <td>79920</td>\n",
       "      <td>52</td>\n",
       "      <td>52</td>\n",
       "      <td>52</td>\n",
       "      <td>52</td>\n",
       "      <td>52</td>\n",
       "      <td>52</td>\n",
       "      <td>52</td>\n",
       "      <td>52</td>\n",
       "      <td>52</td>\n",
       "      <td>...</td>\n",
       "      <td>51</td>\n",
       "      <td>50</td>\n",
       "      <td>48</td>\n",
       "      <td>47</td>\n",
       "      <td>46</td>\n",
       "      <td>38</td>\n",
       "      <td>30</td>\n",
       "      <td>23</td>\n",
       "      <td>15</td>\n",
       "      <td>7</td>\n",
       "    </tr>\n",
       "    <tr>\n",
       "      <th>1937</th>\n",
       "      <td>79928</td>\n",
       "      <td>44205</td>\n",
       "      <td>44205</td>\n",
       "      <td>44205</td>\n",
       "      <td>44205</td>\n",
       "      <td>44205</td>\n",
       "      <td>44205</td>\n",
       "      <td>44205</td>\n",
       "      <td>44205</td>\n",
       "      <td>44205</td>\n",
       "      <td>...</td>\n",
       "      <td>46847</td>\n",
       "      <td>49489</td>\n",
       "      <td>52131</td>\n",
       "      <td>54773</td>\n",
       "      <td>57415</td>\n",
       "      <td>61210</td>\n",
       "      <td>65006</td>\n",
       "      <td>68801</td>\n",
       "      <td>72597</td>\n",
       "      <td>76392</td>\n",
       "    </tr>\n",
       "    <tr>\n",
       "      <th>1938</th>\n",
       "      <td>79942</td>\n",
       "      <td>0</td>\n",
       "      <td>0</td>\n",
       "      <td>0</td>\n",
       "      <td>0</td>\n",
       "      <td>0</td>\n",
       "      <td>0</td>\n",
       "      <td>0</td>\n",
       "      <td>0</td>\n",
       "      <td>0</td>\n",
       "      <td>...</td>\n",
       "      <td>4</td>\n",
       "      <td>7</td>\n",
       "      <td>11</td>\n",
       "      <td>14</td>\n",
       "      <td>18</td>\n",
       "      <td>18</td>\n",
       "      <td>18</td>\n",
       "      <td>18</td>\n",
       "      <td>18</td>\n",
       "      <td>18</td>\n",
       "    </tr>\n",
       "  </tbody>\n",
       "</table>\n",
       "<p>1939 rows × 23 columns</p>\n",
       "</div>"
      ],
      "text/plain": [
       "      PAT_ZIP   2000   2001   2002   2003   2004   2005   2006   2007   2008  \\\n",
       "0       73949   1866   1866   1866   1866   1866   1866   1866   1866   1866   \n",
       "1       75001   8175   8569   8963   9357   9751  10145  10540  10934  11328   \n",
       "2       75002  37171  39444  41717  43990  46263  48536  50810  53083  55356   \n",
       "3       75006  45990  45985  45979  45974  45969  45963  45958  45952  45947   \n",
       "4       75007  50357  50408  50460  50511  50562  50613  50665  50716  50767   \n",
       "...       ...    ...    ...    ...    ...    ...    ...    ...    ...    ...   \n",
       "1934    79911   1849   1849   1849   1849   1849   1849   1849   1849   1849   \n",
       "1935    79916   3144   3144   3144   3144   3144   3144   3144   3144   3144   \n",
       "1936    79920     52     52     52     52     52     52     52     52     52   \n",
       "1937    79928  44205  44205  44205  44205  44205  44205  44205  44205  44205   \n",
       "1938    79942      0      0      0      0      0      0      0      0      0   \n",
       "\n",
       "      ...   2012   2013   2014   2015   2016   2017   2018   2019   2020  \\\n",
       "0     ...   1866   1866   1866   1866   1866   1764   1662   1561   1459   \n",
       "1     ...  12892  13274  13657  14039  14421  14794  15167  15541  15914   \n",
       "2     ...  63513  64850  66188  67525  68863  69311  69759  70206  70654   \n",
       "3     ...  46752  47574  48395  49217  50038  49651  49264  48878  48491   \n",
       "4     ...  51599  52277  52956  53634  54312  54339  54366  54394  54421   \n",
       "...   ...    ...    ...    ...    ...    ...    ...    ...    ...    ...   \n",
       "1934  ...   2261   2673   3084   3496   3908   4660   5412   6164   6916   \n",
       "1935  ...   3109   3074   3038   3003   2968   3280   3591   3903   4214   \n",
       "1936  ...     51     50     48     47     46     38     30     23     15   \n",
       "1937  ...  46847  49489  52131  54773  57415  61210  65006  68801  72597   \n",
       "1938  ...      4      7     11     14     18     18     18     18     18   \n",
       "\n",
       "       2021  \n",
       "0      1357  \n",
       "1     16287  \n",
       "2     71102  \n",
       "3     48104  \n",
       "4     54448  \n",
       "...     ...  \n",
       "1934   7668  \n",
       "1935   4526  \n",
       "1936      7  \n",
       "1937  76392  \n",
       "1938     18  \n",
       "\n",
       "[1939 rows x 23 columns]"
      ]
     },
     "execution_count": 4,
     "metadata": {},
     "output_type": "execute_result"
    }
   ],
   "source": [
    "zip_population = pd.read_csv(zipPop)\n",
    "zip_population"
   ]
  },
  {
   "cell_type": "code",
   "execution_count": 65,
   "metadata": {},
   "outputs": [],
   "source": [
    "def groupDF(df, icd_code):\n",
    "    '''\n",
    "    this function will take in a dataframe, find out which patients have the given icd code, then count by zip code and finally return this groupby dataframe\n",
    "    '''\n",
    "    return_df = df[df['PRINC_DIAG_CODE'].astype(str) == icd_code].groupby('PAT_ZIP').size().sort_values(ascending=False).reset_index()\n",
    "    # print(return_df.info()\n",
    "    # print(return_df.info())\n",
    "    return_df.columns = ['PAT_ZIP','ICD']\n",
    "    # return_df.replace('`',np.NaN, inplace=True)\n",
    "    # return_df['zip_codes'] = return_df['zip_codes'].fillna(0).astype('int')\n",
    "\n",
    "    return return_df\n",
    "\n",
    "icd = pd.read_pickle('../assets/ICDPickle.pkl')\n",
    "\n",
    "\n",
    "def interpCensus(quarter):\n",
    "    year = quarter[2:]\n",
    "    df = zip_population[['PAT_ZIP',year]]\n",
    "    df.columns = ['PAT_ZIP','population']\n",
    "\n",
    "    return df\n",
    "    \n",
    "def loopICDperQuarter(time_period, nthresh=1, icd10=True):\n",
    "    data = pd.DataFrame()\n",
    "        ### load hospital data into hospitaldf (pd.DataFrame)\n",
    "    for ind, quarter in enumerate(time_period):\n",
    "        print(quarter)\n",
    "        hospital_df = pd.read_csv(f\"{hospital_data}PUDF_base1_{quarter}_tab.csv\")\n",
    "        # print('hospital df head')\n",
    "        # print(hospital_df.head())\n",
    "        # hospital_df = hospital_df[hospital_df['SEX_CODE'] == 'F']\n",
    "        hospital_df['PAT_ZIP'] = hospital_df['PAT_ZIP'].astype('str').replace(r'\\.0$','',regex=True)\n",
    "        # hospital_df = hospital_df[~hospital_df['PAT_ZIP'].str.endswith('.0')]\n",
    "        hospital_df = hospital_df[hospital_df['PAT_ZIP'].map(len) == 5]\n",
    "        hospital_df['PAT_ZIP'] = hospital_df['PAT_ZIP'].astype('int')\n",
    "\n",
    "        zip_population = interpCensus(quarter)\n",
    "\n",
    "        if icd10 == True:\n",
    "            codes = icd['PRINC_DIAG_CODE']\n",
    "        else:\n",
    "            codes = icd['ICD-9']\n",
    "\n",
    "        for sind, icd_code in enumerate(codes[:2]):\n",
    "            os.makedirs(f'icd10/{icd[\"PRINC_DIAG_CODE\"][sind]}', exist_ok=True)\n",
    "            # if processing icd-9 codes, then get list of values in icd9cm_mult\n",
    "            # for each value of icd9cm_mult, groupby and add to that icd-10 folder\n",
    "            base_df = pd.DataFrame()\n",
    "            if icd10 == False:\n",
    "                for item in icd['icd9cm_mult'][sind]:\n",
    "                    print(item) \n",
    "                    print(len(hospital_df[hospital_df['PRINC_DIAG_CODE'].astype(str) == item]))                           \n",
    "                    icd_df = groupDF(hospital_df, item)\n",
    "                    print(len(icd_df))\n",
    "                    icd_df = icd_df.merge(zip_population, on='PAT_ZIP')\n",
    "                    print(len(icd_df))\n",
    "                    icd_df['normalized'] = icd_df['ICD']/icd_df['population']\n",
    "                               # icd_df = icd_df[['PAT_ZIP','ICD','normalized']]\n",
    "                    icd_df = icd_df[icd_df['ICD'] >= nthresh]\n",
    "                    print(len(icd_df))\n",
    "                    print(icd_df.columns)\n",
    "\n",
    "                    base_df = pd.concat([base_df, icd_df])\n",
    "            else: \n",
    "                icd_df = groupDF(hospital_df, icd_code)\n",
    "                icd_df = icd_df.merge(zip_population, on='PAT_ZIP')\n",
    "                icd_df['normalized'] = icd_df['ICD']/icd_df['population']\n",
    "                            # icd_df = icd_df[['PAT_ZIP','ICD','normalized']]\n",
    "                icd_df = icd_df[icd_df['ICD'] >= nthresh]\n",
    "\n",
    "                base_df = pd.concat([base_df, icd_df])\n",
    "            base_df.to_csv(f'./icd10/{icd[\"PRINC_DIAG_CODE\"][sind]}/{quarter}.csv', index=False) # change this to save files as 2005q1 instead of 1q2005\n",
    "            # print(icd_df.head())\n",
    "\n",
    "    del hospital_df\n",
    "\n",
    "    return data"
   ]
  },
  {
   "cell_type": "code",
   "execution_count": 37,
   "metadata": {},
   "outputs": [],
   "source": [
    "start_year = 2005\n",
    "end_year = 2022\n",
    "\n",
    "hospital_quarters = [f\"{quarter}q{year}\" for year in range(start_year, end_year + 1) for quarter in range(1, 5) if not (year == end_year and quarter > 2)]\n",
    "hospital_quarters = hospital_quarters[:-1]\n",
    "icd9_subset = hospital_quarters[hospital_quarters.index(f'1q{start_year}'):hospital_quarters.index('4q2015')]\n",
    "icd10_subset = hospital_quarters[hospital_quarters.index('4q2015'):hospital_quarters.index(f'1q{end_year}')]"
   ]
  },
  {
   "cell_type": "code",
   "execution_count": 66,
   "metadata": {},
   "outputs": [
    {
     "name": "stdout",
     "output_type": "stream",
     "text": [
      "1q2005\n"
     ]
    },
    {
     "name": "stderr",
     "output_type": "stream",
     "text": [
      "C:\\Users\\Ash\\AppData\\Local\\Temp\\ipykernel_35956\\2255725948.py:29: DtypeWarning: Columns (3,4,5,6,7,8,9,10,14,15,17,18,24,25,26,28,76,77,78,79,80,81,82,83,84,85,86,87,88,89,90,91,94,97,168,169,170,171,172,173,174,177,178,179,180,185,186,187,188,189,190,191,192,193,194,195,197,199,201,203,209,210,211,213,214,221,223,225,227,229,231,233,235) have mixed types. Specify dtype option on import or set low_memory=False.\n",
      "  hospital_df = pd.read_csv(f\"{hospital_data}PUDF_base1_{quarter}_tab.csv\")\n"
     ]
    },
    {
     "name": "stdout",
     "output_type": "stream",
     "text": [
      "V3000\n",
      "55251\n",
      "1538\n",
      "1421\n",
      "1421\n",
      "Index(['PAT_ZIP', 'ICD', 'population', 'normalized'], dtype='object')\n",
      "V3900\n",
      "0\n",
      "0\n",
      "0\n",
      "0\n",
      "Index(['ICD', 'PAT_ZIP', 'population', 'normalized'], dtype='object')\n",
      "V3001\n",
      "26861\n",
      "1394\n",
      "1317\n",
      "1317\n",
      "Index(['PAT_ZIP', 'ICD', 'population', 'normalized'], dtype='object')\n"
     ]
    },
    {
     "data": {
      "text/html": [
       "<div>\n",
       "<style scoped>\n",
       "    .dataframe tbody tr th:only-of-type {\n",
       "        vertical-align: middle;\n",
       "    }\n",
       "\n",
       "    .dataframe tbody tr th {\n",
       "        vertical-align: top;\n",
       "    }\n",
       "\n",
       "    .dataframe thead th {\n",
       "        text-align: right;\n",
       "    }\n",
       "</style>\n",
       "<table border=\"1\" class=\"dataframe\">\n",
       "  <thead>\n",
       "    <tr style=\"text-align: right;\">\n",
       "      <th></th>\n",
       "    </tr>\n",
       "  </thead>\n",
       "  <tbody>\n",
       "  </tbody>\n",
       "</table>\n",
       "</div>"
      ],
      "text/plain": [
       "Empty DataFrame\n",
       "Columns: []\n",
       "Index: []"
      ]
     },
     "execution_count": 66,
     "metadata": {},
     "output_type": "execute_result"
    }
   ],
   "source": [
    "loopICDperQuarter(icd9_subset[:1], icd10=False)"
   ]
  },
  {
   "cell_type": "code",
   "execution_count": 44,
   "metadata": {},
   "outputs": [
    {
     "name": "stderr",
     "output_type": "stream",
     "text": [
      "C:\\Users\\Ash\\AppData\\Local\\Temp\\ipykernel_35956\\4041417104.py:1: DtypeWarning: Columns (3,4,5,6,7,8,9,10,14,15,17,18,24,25,26,28,76,77,78,79,80,81,82,83,84,85,86,87,88,89,90,91,94,97,168,169,170,171,172,173,174,177,178,179,180,185,186,187,188,189,190,191,192,193,194,195,197,199,201,203,209,210,211,213,214,221,223,225,227,229,231,233,235) have mixed types. Specify dtype option on import or set low_memory=False.\n",
      "  df = pd.read_csv([hospital_data+i for i in os.listdir(hospital_data) if 'base1_1q2005_tab.csv' in i][0])\n"
     ]
    }
   ],
   "source": [
    "df = pd.read_csv([hospital_data+i for i in os.listdir(hospital_data) if 'base1_1q2005_tab.csv' in i][0])"
   ]
  },
  {
   "cell_type": "code",
   "execution_count": 54,
   "metadata": {},
   "outputs": [
    {
     "data": {
      "text/html": [
       "<div>\n",
       "<style scoped>\n",
       "    .dataframe tbody tr th:only-of-type {\n",
       "        vertical-align: middle;\n",
       "    }\n",
       "\n",
       "    .dataframe tbody tr th {\n",
       "        vertical-align: top;\n",
       "    }\n",
       "\n",
       "    .dataframe thead th {\n",
       "        text-align: right;\n",
       "    }\n",
       "</style>\n",
       "<table border=\"1\" class=\"dataframe\">\n",
       "  <thead>\n",
       "    <tr style=\"text-align: right;\">\n",
       "      <th></th>\n",
       "      <th>PAT_ZIP</th>\n",
       "      <th>0</th>\n",
       "    </tr>\n",
       "  </thead>\n",
       "  <tbody>\n",
       "    <tr>\n",
       "      <th>0</th>\n",
       "      <td>70661</td>\n",
       "      <td>1</td>\n",
       "    </tr>\n",
       "    <tr>\n",
       "      <th>1</th>\n",
       "      <td>77660</td>\n",
       "      <td>1</td>\n",
       "    </tr>\n",
       "    <tr>\n",
       "      <th>2</th>\n",
       "      <td>77663</td>\n",
       "      <td>1</td>\n",
       "    </tr>\n",
       "    <tr>\n",
       "      <th>3</th>\n",
       "      <td>77704</td>\n",
       "      <td>1</td>\n",
       "    </tr>\n",
       "    <tr>\n",
       "      <th>4</th>\n",
       "      <td>78469</td>\n",
       "      <td>1</td>\n",
       "    </tr>\n",
       "    <tr>\n",
       "      <th>...</th>\n",
       "      <td>...</td>\n",
       "      <td>...</td>\n",
       "    </tr>\n",
       "    <tr>\n",
       "      <th>1533</th>\n",
       "      <td>75217</td>\n",
       "      <td>292</td>\n",
       "    </tr>\n",
       "    <tr>\n",
       "      <th>1534</th>\n",
       "      <td>78572</td>\n",
       "      <td>311</td>\n",
       "    </tr>\n",
       "    <tr>\n",
       "      <th>1535</th>\n",
       "      <td>77036</td>\n",
       "      <td>314</td>\n",
       "    </tr>\n",
       "    <tr>\n",
       "      <th>1536</th>\n",
       "      <td>78521</td>\n",
       "      <td>328</td>\n",
       "    </tr>\n",
       "    <tr>\n",
       "      <th>1537</th>\n",
       "      <td>75211</td>\n",
       "      <td>348</td>\n",
       "    </tr>\n",
       "  </tbody>\n",
       "</table>\n",
       "<p>1538 rows × 2 columns</p>\n",
       "</div>"
      ],
      "text/plain": [
       "      PAT_ZIP    0\n",
       "0       70661    1\n",
       "1       77660    1\n",
       "2       77663    1\n",
       "3       77704    1\n",
       "4       78469    1\n",
       "...       ...  ...\n",
       "1533    75217  292\n",
       "1534    78572  311\n",
       "1535    77036  314\n",
       "1536    78521  328\n",
       "1537    75211  348\n",
       "\n",
       "[1538 rows x 2 columns]"
      ]
     },
     "execution_count": 54,
     "metadata": {},
     "output_type": "execute_result"
    }
   ],
   "source": [
    "df['PAT_ZIP'] = df['PAT_ZIP'].astype('str').replace(r'\\.0$','',regex=True)\n",
    "# hospital_df = hospital_df[~hospital_df['PAT_ZIP'].str.endswith('.0')]\n",
    "df = df[df['PAT_ZIP'].map(len) == 5]\n",
    "df['PAT_ZIP'] = df['PAT_ZIP'].astype('int')\n",
    "v3000_df = df[df['PRINC_DIAG_CODE'].astype(str) == 'V3000'].groupby('PAT_ZIP').size().sort_values().reset_index()\n",
    "v3000_df"
   ]
  },
  {
   "cell_type": "code",
   "execution_count": 55,
   "metadata": {},
   "outputs": [
    {
     "data": {
      "text/html": [
       "<div>\n",
       "<style scoped>\n",
       "    .dataframe tbody tr th:only-of-type {\n",
       "        vertical-align: middle;\n",
       "    }\n",
       "\n",
       "    .dataframe tbody tr th {\n",
       "        vertical-align: top;\n",
       "    }\n",
       "\n",
       "    .dataframe thead th {\n",
       "        text-align: right;\n",
       "    }\n",
       "</style>\n",
       "<table border=\"1\" class=\"dataframe\">\n",
       "  <thead>\n",
       "    <tr style=\"text-align: right;\">\n",
       "      <th></th>\n",
       "      <th>PAT_ZIP</th>\n",
       "      <th>0</th>\n",
       "      <th>2000</th>\n",
       "    </tr>\n",
       "  </thead>\n",
       "  <tbody>\n",
       "    <tr>\n",
       "      <th>0</th>\n",
       "      <td>77660</td>\n",
       "      <td>1</td>\n",
       "      <td>1441</td>\n",
       "    </tr>\n",
       "    <tr>\n",
       "      <th>1</th>\n",
       "      <td>77663</td>\n",
       "      <td>1</td>\n",
       "      <td>1097</td>\n",
       "    </tr>\n",
       "    <tr>\n",
       "      <th>2</th>\n",
       "      <td>77853</td>\n",
       "      <td>1</td>\n",
       "      <td>1029</td>\n",
       "    </tr>\n",
       "    <tr>\n",
       "      <th>3</th>\n",
       "      <td>77872</td>\n",
       "      <td>1</td>\n",
       "      <td>1694</td>\n",
       "    </tr>\n",
       "    <tr>\n",
       "      <th>4</th>\n",
       "      <td>79039</td>\n",
       "      <td>1</td>\n",
       "      <td>840</td>\n",
       "    </tr>\n",
       "    <tr>\n",
       "      <th>...</th>\n",
       "      <td>...</td>\n",
       "      <td>...</td>\n",
       "      <td>...</td>\n",
       "    </tr>\n",
       "    <tr>\n",
       "      <th>1416</th>\n",
       "      <td>75217</td>\n",
       "      <td>292</td>\n",
       "      <td>72437</td>\n",
       "    </tr>\n",
       "    <tr>\n",
       "      <th>1417</th>\n",
       "      <td>78572</td>\n",
       "      <td>311</td>\n",
       "      <td>113935</td>\n",
       "    </tr>\n",
       "    <tr>\n",
       "      <th>1418</th>\n",
       "      <td>77036</td>\n",
       "      <td>314</td>\n",
       "      <td>76146</td>\n",
       "    </tr>\n",
       "    <tr>\n",
       "      <th>1419</th>\n",
       "      <td>78521</td>\n",
       "      <td>328</td>\n",
       "      <td>84738</td>\n",
       "    </tr>\n",
       "    <tr>\n",
       "      <th>1420</th>\n",
       "      <td>75211</td>\n",
       "      <td>348</td>\n",
       "      <td>68730</td>\n",
       "    </tr>\n",
       "  </tbody>\n",
       "</table>\n",
       "<p>1421 rows × 3 columns</p>\n",
       "</div>"
      ],
      "text/plain": [
       "      PAT_ZIP    0    2000\n",
       "0       77660    1    1441\n",
       "1       77663    1    1097\n",
       "2       77853    1    1029\n",
       "3       77872    1    1694\n",
       "4       79039    1     840\n",
       "...       ...  ...     ...\n",
       "1416    75217  292   72437\n",
       "1417    78572  311  113935\n",
       "1418    77036  314   76146\n",
       "1419    78521  328   84738\n",
       "1420    75211  348   68730\n",
       "\n",
       "[1421 rows x 3 columns]"
      ]
     },
     "execution_count": 55,
     "metadata": {},
     "output_type": "execute_result"
    }
   ],
   "source": [
    "v3000_df.merge(zip_population.iloc[:,:2], on='PAT_ZIP')"
   ]
  },
  {
   "cell_type": "code",
   "execution_count": 28,
   "metadata": {},
   "outputs": [
    {
     "name": "stdout",
     "output_type": "stream",
     "text": [
      "2q2005\n"
     ]
    },
    {
     "name": "stderr",
     "output_type": "stream",
     "text": [
      "/tmp/ipykernel_3799923/4138451628.py:27: DtypeWarning: Columns (3,4,5,6,7,8,9,10,14,15,17,18,24,25,26,28,66,67,76,77,78,79,80,81,82,83,84,85,86,87,88,89,90,91,94,95,97,98,100,103,106,109,112,168,169,170,171,172,173,177,178,179,180,185,186,187,188,189,190,191,192,193,194,195,197,199,201,203,209,210,211,212,213,214,221,223,225,227,229,231,233) have mixed types. Specify dtype option on import or set low_memory=False.\n",
      "  hospital_df = pd.read_csv(f\"{hospital_data}PUDF_base1_{quarter}_tab.csv\")\n"
     ]
    },
    {
     "name": "stdout",
     "output_type": "stream",
     "text": [
      "3q2005\n"
     ]
    },
    {
     "name": "stderr",
     "output_type": "stream",
     "text": [
      "/tmp/ipykernel_3799923/4138451628.py:27: DtypeWarning: Columns (3,4,5,6,7,8,9,10,14,15,17,18,24,25,26,28,67,75,76,77,78,79,80,81,82,83,84,85,86,87,88,89,90,91,94,95,97,98,100,103,106,109,110,112,115,118,168,169,170,171,172,177,178,179,180,185,186,187,188,189,190,191,192,193,194,195,197,199,201,203,209,210,211,212,213,214,221,223,225,227,229,231,233) have mixed types. Specify dtype option on import or set low_memory=False.\n",
      "  hospital_df = pd.read_csv(f\"{hospital_data}PUDF_base1_{quarter}_tab.csv\")\n"
     ]
    },
    {
     "name": "stdout",
     "output_type": "stream",
     "text": [
      "4q2005\n"
     ]
    },
    {
     "name": "stderr",
     "output_type": "stream",
     "text": [
      "/tmp/ipykernel_3799923/4138451628.py:27: DtypeWarning: Columns (3,4,5,6,7,8,9,10,14,15,17,18,24,25,26,28,66,68,69,70,71,72,73,74,75,76,77,78,79,80,81,82,83,84,85,86,87,88,89,90,91,94,95,97,98,100,101,103,104,106,109,112,115,118,167,168,169,170,171,172,177,178,179,180,185,186,187,188,189,190,191,192,193,195,197,199,201,203,209,210,211,212,213,214,221,223,225,227,229,231,233,235) have mixed types. Specify dtype option on import or set low_memory=False.\n",
      "  hospital_df = pd.read_csv(f\"{hospital_data}PUDF_base1_{quarter}_tab.csv\")\n"
     ]
    },
    {
     "name": "stdout",
     "output_type": "stream",
     "text": [
      "1q2006\n"
     ]
    },
    {
     "name": "stderr",
     "output_type": "stream",
     "text": [
      "/tmp/ipykernel_3799923/4138451628.py:27: DtypeWarning: Columns (3,4,5,6,7,8,9,10,14,15,17,18,24,25,26,29,68,69,70,71,72,73,74,75,76,77,78,79,80,81,82,83,84,85,86,87,88,89,90,91,92,94,97,98,100,103,106,109,112,115,118,121,124,127,168,169,170,171,172,177,178,179,180,185,186,187,188,189,190,191,192,193,194,195,197,199,201,209,210,211,212,213,214,221,223,225,227,229,231,233) have mixed types. Specify dtype option on import or set low_memory=False.\n",
      "  hospital_df = pd.read_csv(f\"{hospital_data}PUDF_base1_{quarter}_tab.csv\")\n"
     ]
    },
    {
     "name": "stdout",
     "output_type": "stream",
     "text": [
      "2q2006\n"
     ]
    },
    {
     "name": "stderr",
     "output_type": "stream",
     "text": [
      "/tmp/ipykernel_3799923/4138451628.py:27: DtypeWarning: Columns (3,4,5,6,7,8,9,10,14,15,17,18,24,25,26,28,66,67,76,77,78,79,80,81,82,83,84,85,86,87,88,89,90,91,94,97,100,103,106,109,112,115,118,121,124,168,169,170,171,172,173,177,178,179,180,185,186,187,188,189,190,191,192,193,194,195,197,199,201,209,210,211,212,213,214,221,223,225,227,229,231,233) have mixed types. Specify dtype option on import or set low_memory=False.\n",
      "  hospital_df = pd.read_csv(f\"{hospital_data}PUDF_base1_{quarter}_tab.csv\")\n"
     ]
    },
    {
     "name": "stdout",
     "output_type": "stream",
     "text": [
      "3q2006\n"
     ]
    },
    {
     "name": "stderr",
     "output_type": "stream",
     "text": [
      "/tmp/ipykernel_3799923/4138451628.py:27: DtypeWarning: Columns (3,4,5,6,7,8,9,10,14,15,17,18,24,25,26,67,68,69,70,71,72,73,74,75,76,77,78,79,80,81,82,83,84,85,86,87,88,89,90,91,94,97,100,103,106,109,112,115,118,168,169,170,171,172,173,174,175,176,177,178,179,180,185,186,187,188,189,190,191,192,193,194,195,197,199,201,203,205,209,210,211,212,221,223,225,227,229,231,233) have mixed types. Specify dtype option on import or set low_memory=False.\n",
      "  hospital_df = pd.read_csv(f\"{hospital_data}PUDF_base1_{quarter}_tab.csv\")\n"
     ]
    },
    {
     "name": "stdout",
     "output_type": "stream",
     "text": [
      "4q2006\n"
     ]
    },
    {
     "name": "stderr",
     "output_type": "stream",
     "text": [
      "/tmp/ipykernel_3799923/4138451628.py:27: DtypeWarning: Columns (3,4,5,6,7,8,9,10,14,15,17,18,24,25,26,76,77,78,79,80,81,82,83,84,85,86,87,88,89,90,91,92,94,97,168,169,170,171,172,173,174,177,178,179,180,185,186,187,188,189,190,191,192,193,194,195,196,197,199,201,203,205,209,210,211,221,223,225,227,229,231,233,235,237) have mixed types. Specify dtype option on import or set low_memory=False.\n",
      "  hospital_df = pd.read_csv(f\"{hospital_data}PUDF_base1_{quarter}_tab.csv\")\n"
     ]
    },
    {
     "name": "stdout",
     "output_type": "stream",
     "text": [
      "1q2007\n"
     ]
    },
    {
     "name": "stderr",
     "output_type": "stream",
     "text": [
      "/tmp/ipykernel_3799923/4138451628.py:27: DtypeWarning: Columns (3,4,5,6,7,8,9,10,14,15,17,18,24,25,26,28,76,77,78,79,80,81,82,83,84,85,86,87,88,89,90,91,94,97,100,103,168,169,170,171,172,177,178,179,180,181,185,186,187,188,189,190,191,192,193,194,195,196,197,199,201,203,205,207,209,210,211,212,221,223,225,227,229,231,233,235) have mixed types. Specify dtype option on import or set low_memory=False.\n",
      "  hospital_df = pd.read_csv(f\"{hospital_data}PUDF_base1_{quarter}_tab.csv\")\n"
     ]
    },
    {
     "name": "stdout",
     "output_type": "stream",
     "text": [
      "2q2007\n"
     ]
    },
    {
     "name": "stderr",
     "output_type": "stream",
     "text": [
      "/tmp/ipykernel_3799923/4138451628.py:27: DtypeWarning: Columns (3,4,5,6,7,8,9,10,14,15,17,18,24,25,26,66,76,77,78,79,80,81,82,83,84,85,86,87,88,89,90,91,94,97,100,103,106,109,112,115,118,121,124,127,130,133,168,169,170,171,172,173,177,178,179,180,181,185,186,187,188,189,190,191,192,193,194,195,197,199,201,203,205,207,209,210,211,212,221,223,225,227,229,231,233) have mixed types. Specify dtype option on import or set low_memory=False.\n",
      "  hospital_df = pd.read_csv(f\"{hospital_data}PUDF_base1_{quarter}_tab.csv\")\n"
     ]
    },
    {
     "name": "stdout",
     "output_type": "stream",
     "text": [
      "3q2007\n"
     ]
    },
    {
     "name": "stderr",
     "output_type": "stream",
     "text": [
      "/tmp/ipykernel_3799923/4138451628.py:27: DtypeWarning: Columns (3,4,5,6,7,8,9,10,14,15,17,18,25,26,28,29,76,77,78,79,80,81,82,83,84,85,86,87,88,89,90,91,94,97,100,103,106,109,112,115,118,121,168,169,170,171,172,173,177,178,179,180,181,185,186,187,188,189,190,191,192,193,194,195,197,199,201,203,205,209,210,211,212,221,223,225,227,229,231) have mixed types. Specify dtype option on import or set low_memory=False.\n",
      "  hospital_df = pd.read_csv(f\"{hospital_data}PUDF_base1_{quarter}_tab.csv\")\n"
     ]
    },
    {
     "name": "stdout",
     "output_type": "stream",
     "text": [
      "4q2007\n"
     ]
    },
    {
     "name": "stderr",
     "output_type": "stream",
     "text": [
      "/tmp/ipykernel_3799923/4138451628.py:27: DtypeWarning: Columns (3,4,5,6,7,8,9,10,14,15,17,18,24,25,26,29,76,77,78,79,80,81,82,83,84,85,86,87,88,89,90,91,94,97,100,103,106,109,168,169,170,171,172,173,174,175,177,178,179,180,181,185,186,187,188,189,190,191,192,193,194,195,197,199,201,203,205,207,209,210,211,212,221,223,225,227,229,231) have mixed types. Specify dtype option on import or set low_memory=False.\n",
      "  hospital_df = pd.read_csv(f\"{hospital_data}PUDF_base1_{quarter}_tab.csv\")\n"
     ]
    },
    {
     "name": "stdout",
     "output_type": "stream",
     "text": [
      "1q2008\n"
     ]
    },
    {
     "name": "stderr",
     "output_type": "stream",
     "text": [
      "/tmp/ipykernel_3799923/4138451628.py:27: DtypeWarning: Columns (3,4,5,6,7,8,9,10,14,15,17,18,24,25,26,28,66,67,76,77,78,79,80,81,82,83,84,85,86,87,88,89,90,91,94,97,100,103,106,107,109,168,169,170,171,172,173,177,178,179,180,181,185,186,187,188,189,190,191,192,193,194,195,196,197,199,201,203,205,209,210,211,212,221,223,225,227,229,231) have mixed types. Specify dtype option on import or set low_memory=False.\n",
      "  hospital_df = pd.read_csv(f\"{hospital_data}PUDF_base1_{quarter}_tab.csv\")\n"
     ]
    },
    {
     "name": "stdout",
     "output_type": "stream",
     "text": [
      "2q2008\n"
     ]
    },
    {
     "name": "stderr",
     "output_type": "stream",
     "text": [
      "/tmp/ipykernel_3799923/4138451628.py:27: DtypeWarning: Columns (3,4,5,6,7,8,9,10,14,15,17,18,24,25,26,67,76,77,78,79,80,81,82,83,84,85,86,87,88,89,90,91,94,97,100,103,106,109,112,115,118,121,124,127,130,133,136,139,142,145,168,169,170,171,172,173,177,178,179,180,181,185,186,187,188,189,190,191,192,193,194,195,197,199,201,203,205,209,210,211,212,221,223,225,227,229,231) have mixed types. Specify dtype option on import or set low_memory=False.\n",
      "  hospital_df = pd.read_csv(f\"{hospital_data}PUDF_base1_{quarter}_tab.csv\")\n"
     ]
    },
    {
     "name": "stdout",
     "output_type": "stream",
     "text": [
      "3q2008\n"
     ]
    },
    {
     "name": "stderr",
     "output_type": "stream",
     "text": [
      "/tmp/ipykernel_3799923/4138451628.py:27: DtypeWarning: Columns (3,4,5,6,7,8,9,10,14,15,17,18,24,25,26,28,66,67,76,77,78,79,80,81,82,83,84,85,86,87,88,89,90,91,92,94,95,97,100,103,106,109,112,115,118,121,167,168,169,170,171,172,177,178,179,180,181,185,186,187,188,189,190,191,192,193,194,195,197,199,201,203,205,209,210,211,212,221,223,225,227,229,231) have mixed types. Specify dtype option on import or set low_memory=False.\n",
      "  hospital_df = pd.read_csv(f\"{hospital_data}PUDF_base1_{quarter}_tab.csv\")\n"
     ]
    },
    {
     "name": "stdout",
     "output_type": "stream",
     "text": [
      "4q2008\n"
     ]
    },
    {
     "name": "stderr",
     "output_type": "stream",
     "text": [
      "/tmp/ipykernel_3799923/4138451628.py:27: DtypeWarning: Columns (3,4,5,6,7,8,9,10,14,15,17,18,24,25,26,29,76,77,78,79,80,81,82,83,84,85,86,87,88,89,90,91,94,97,100,103,106,109,112,115,118,121,124,168,169,170,171,172,173,174,175,177,178,179,180,181,185,186,187,188,189,190,191,192,193,194,195,197,199,201,203,205,207,209,210,211,212,221,223,225,227,229,231) have mixed types. Specify dtype option on import or set low_memory=False.\n",
      "  hospital_df = pd.read_csv(f\"{hospital_data}PUDF_base1_{quarter}_tab.csv\")\n"
     ]
    },
    {
     "name": "stdout",
     "output_type": "stream",
     "text": [
      "1q2009\n"
     ]
    },
    {
     "name": "stderr",
     "output_type": "stream",
     "text": [
      "/tmp/ipykernel_3799923/4138451628.py:27: DtypeWarning: Columns (3,4,5,6,7,8,9,10,14,15,17,18,24,25,26,76,77,78,79,80,81,82,83,84,85,86,87,88,89,90,91,92,94,97,100,103,106,109,112,168,169,170,171,172,173,174,177,178,179,180,181,185,186,187,188,189,190,191,192,193,194,195,196,197,198,199,200,201,202,203,204,205,206,207,208,209,210,211,212,221,223,225,227,229,231,233) have mixed types. Specify dtype option on import or set low_memory=False.\n",
      "  hospital_df = pd.read_csv(f\"{hospital_data}PUDF_base1_{quarter}_tab.csv\")\n"
     ]
    },
    {
     "name": "stdout",
     "output_type": "stream",
     "text": [
      "2q2009\n"
     ]
    },
    {
     "name": "stderr",
     "output_type": "stream",
     "text": [
      "/tmp/ipykernel_3799923/4138451628.py:27: DtypeWarning: Columns (3,4,5,6,7,8,9,10,14,15,17,18,24,25,26,66,67,76,77,78,79,80,81,82,83,84,85,86,87,88,89,90,91,94,95,97,100,103,106,109,112,168,169,170,171,172,173,174,175,176,177,178,179,180,181,182,185,186,187,188,189,190,191,192,193,194,195,197,199,201,203,205,209,210,211,212,221,223,225,227,229,231) have mixed types. Specify dtype option on import or set low_memory=False.\n",
      "  hospital_df = pd.read_csv(f\"{hospital_data}PUDF_base1_{quarter}_tab.csv\")\n"
     ]
    },
    {
     "name": "stdout",
     "output_type": "stream",
     "text": [
      "3q2009\n"
     ]
    },
    {
     "name": "stderr",
     "output_type": "stream",
     "text": [
      "/tmp/ipykernel_3799923/4138451628.py:27: DtypeWarning: Columns (3,4,5,6,7,8,9,10,14,15,17,18,24,25,26,66,76,77,78,79,80,81,82,83,84,85,86,87,88,89,90,91,94,95,97,98,100,101,103,104,106,109,112,115,116,118,119,121,124,127,130,133,136,139,142,145,148,151,154,157,160,163,166,168,169,170,171,172,173,174,177,178,179,180,181,182,185,186,187,188,189,190,191,192,193,194,195,196,197,199,200,201,203,205,209,210,211,212,221,223,225,227,229,231,233) have mixed types. Specify dtype option on import or set low_memory=False.\n",
      "  hospital_df = pd.read_csv(f\"{hospital_data}PUDF_base1_{quarter}_tab.csv\")\n"
     ]
    },
    {
     "name": "stdout",
     "output_type": "stream",
     "text": [
      "4q2009\n"
     ]
    },
    {
     "name": "stderr",
     "output_type": "stream",
     "text": [
      "/tmp/ipykernel_3799923/4138451628.py:27: DtypeWarning: Columns (3,4,5,6,7,8,9,10,14,15,17,18,24,25,26,76,77,78,79,80,81,82,83,84,85,86,87,88,89,90,91,92,94,95,97,98,100,103,104,106,107,109,110,112,113,115,116,118,121,122,124,125,127,128,130,131,133,134,136,139,140,142,145,146,148,151,152,154,155,157,158,160,161,163,164,166,168,169,170,171,172,173,174,175,177,178,179,180,181,185,186,187,188,189,190,191,192,193,194,195,196,197,199,201,203,207,209,210,211,212,221,223,225,227,229,231,233,235,237) have mixed types. Specify dtype option on import or set low_memory=False.\n",
      "  hospital_df = pd.read_csv(f\"{hospital_data}PUDF_base1_{quarter}_tab.csv\")\n"
     ]
    },
    {
     "name": "stdout",
     "output_type": "stream",
     "text": [
      "1q2010\n"
     ]
    },
    {
     "name": "stderr",
     "output_type": "stream",
     "text": [
      "/tmp/ipykernel_3799923/4138451628.py:27: DtypeWarning: Columns (3,4,5,6,7,8,9,10,14,15,17,18,24,25,26,67,76,77,78,79,80,81,82,83,84,85,86,87,88,89,90,91,94,97,100,101,103,106,107,109,110,112,113,115,116,118,119,121,122,124,127,128,130,131,133,134,136,137,139,140,142,143,145,146,148,149,151,154,155,157,160,161,163,164,166,168,169,170,171,172,173,174,177,178,179,180,181,185,186,187,188,189,190,191,192,193,194,195,196,197,199,201,203,205,207,209,210,211,212,213,214,221,223,225,227,229,231,233,235) have mixed types. Specify dtype option on import or set low_memory=False.\n",
      "  hospital_df = pd.read_csv(f\"{hospital_data}PUDF_base1_{quarter}_tab.csv\")\n"
     ]
    },
    {
     "name": "stdout",
     "output_type": "stream",
     "text": [
      "2q2010\n"
     ]
    },
    {
     "name": "stderr",
     "output_type": "stream",
     "text": [
      "/tmp/ipykernel_3799923/4138451628.py:27: DtypeWarning: Columns (3,4,5,6,7,8,9,10,14,15,17,18,23,24,25,66,67,76,77,78,79,80,81,82,83,84,85,86,87,88,89,90,91,92,94,95,97,98,100,101,103,104,106,107,109,110,112,113,115,116,118,119,121,122,124,125,127,128,130,131,133,134,136,137,139,140,142,143,145,146,148,149,151,152,154,155,157,158,160,161,163,164,166,168,169,170,171,172,173,174,177,178,179,180,181,185,186,187,188,189,190,191,192,193,194,195,196,197,198,199,200,201,202,203,204,205,206,207,209,210,211,212,213,214,221,223,225,227,229,231,233,237) have mixed types. Specify dtype option on import or set low_memory=False.\n",
      "  hospital_df = pd.read_csv(f\"{hospital_data}PUDF_base1_{quarter}_tab.csv\")\n"
     ]
    },
    {
     "name": "stdout",
     "output_type": "stream",
     "text": [
      "3q2010\n"
     ]
    },
    {
     "name": "stderr",
     "output_type": "stream",
     "text": [
      "/tmp/ipykernel_3799923/4138451628.py:27: DtypeWarning: Columns (3,4,5,6,7,8,9,10,14,15,17,18,23,24,25,26,67,76,77,78,79,80,81,82,83,84,85,86,87,88,89,90,91,94,95,97,98,100,101,103,104,106,107,109,110,112,113,115,116,118,119,121,122,124,125,127,128,130,131,133,134,136,137,139,140,142,143,145,146,148,149,151,152,154,155,157,158,160,161,163,164,166,168,169,170,171,172,173,174,175,176,177,178,179,180,181,182,185,186,187,188,189,190,191,192,193,194,195,196,197,199,201,203,205,207,209,210,211,212,213,214,221,223,225,227,229,231,233) have mixed types. Specify dtype option on import or set low_memory=False.\n",
      "  hospital_df = pd.read_csv(f\"{hospital_data}PUDF_base1_{quarter}_tab.csv\")\n"
     ]
    },
    {
     "name": "stdout",
     "output_type": "stream",
     "text": [
      "4q2010\n"
     ]
    },
    {
     "name": "stderr",
     "output_type": "stream",
     "text": [
      "/tmp/ipykernel_3799923/4138451628.py:27: DtypeWarning: Columns (3,4,5,6,7,8,9,10,15,17,18,23,24,25,26,76,77,78,79,80,81,82,83,84,85,86,87,88,89,90,91,94,97,98,100,101,103,104,106,107,109,110,112,113,115,116,118,119,121,122,124,125,127,128,130,131,133,134,136,137,139,140,142,143,145,146,148,149,151,152,154,155,157,158,160,161,163,164,166,168,169,170,171,172,173,174,175,177,178,179,180,181,182,185,186,187,188,189,190,191,192,193,194,195,196,197,198,199,201,203,205,209,210,211,212,213,214,221,223,225,227,229,231) have mixed types. Specify dtype option on import or set low_memory=False.\n",
      "  hospital_df = pd.read_csv(f\"{hospital_data}PUDF_base1_{quarter}_tab.csv\")\n"
     ]
    },
    {
     "name": "stdout",
     "output_type": "stream",
     "text": [
      "1q2011\n"
     ]
    },
    {
     "name": "stderr",
     "output_type": "stream",
     "text": [
      "/tmp/ipykernel_3799923/4138451628.py:27: DtypeWarning: Columns (4,5,7,8,9,12,13,16,18,19,22,52,53,54,55,56,57,58,59,60,61,62,63,64,65,66,67,68,69,70,71,72,73,74,75,76,77,78,79,80,81,82,83,86,88,90,92,94,96,98,100,106,109,110,112,113,115,116,118,119,121,122,124,125,127,128,130,131,133,134,136,137,139,140,142,143,145,146,148,149,151,152,154,155,157,158,160,161,163,164,166,167,169,170,172,173,175,176,178) have mixed types. Specify dtype option on import or set low_memory=False.\n",
      "  hospital_df = pd.read_csv(f\"{hospital_data}PUDF_base1_{quarter}_tab.csv\")\n"
     ]
    },
    {
     "name": "stdout",
     "output_type": "stream",
     "text": [
      "2q2011\n"
     ]
    },
    {
     "name": "stderr",
     "output_type": "stream",
     "text": [
      "/tmp/ipykernel_3799923/4138451628.py:27: DtypeWarning: Columns (5,7,8,12,13,16,18,19,22,52,53,54,55,56,57,58,59,60,61,62,63,64,65,66,67,68,69,70,71,72,73,74,75,76,77,78,79,80,81,82,83,86,88,90,92,94,96,98,100,104,106,107,109,110,112,113,115,116,118,119,121,122,124,125,127,128,130,131,133,134,136,137,139,140,142,143,145,146,148,149,151,152,154,155,157,158,160,161,163,164,166,167,169,170,172,173,175,176,178) have mixed types. Specify dtype option on import or set low_memory=False.\n",
      "  hospital_df = pd.read_csv(f\"{hospital_data}PUDF_base1_{quarter}_tab.csv\")\n"
     ]
    },
    {
     "name": "stdout",
     "output_type": "stream",
     "text": [
      "3q2011\n"
     ]
    },
    {
     "name": "stderr",
     "output_type": "stream",
     "text": [
      "/tmp/ipykernel_3799923/4138451628.py:27: DtypeWarning: Columns (5,7,8,9,12,13,16,18,19,34,37,39,41,43,45,47,49,51,52,53,54,55,56,57,58,59,60,61,62,63,64,65,66,67,68,69,70,71,72,73,74,75,76,77,78,79,80,81,82,83,86,88,90,92,94,96,98,100,102,106,109,112,113,115,118,119,121,122,124,125,127,130,131,133,134,136,137,139,140,142,145,146,148,149,151,154,157,158,160,161,163,166,167,169,172,173,175,176,178) have mixed types. Specify dtype option on import or set low_memory=False.\n",
      "  hospital_df = pd.read_csv(f\"{hospital_data}PUDF_base1_{quarter}_tab.csv\")\n"
     ]
    },
    {
     "name": "stdout",
     "output_type": "stream",
     "text": [
      "4q2011\n"
     ]
    },
    {
     "name": "stderr",
     "output_type": "stream",
     "text": [
      "/tmp/ipykernel_3799923/4138451628.py:27: DtypeWarning: Columns (4,5,7,8,12,13,16,18,19,22,52,53,54,55,56,57,58,59,60,61,62,63,64,65,66,67,68,69,70,71,72,73,74,75,76,77,78,79,80,81,82,83,86,88,90,92,94,96,98,106,109,110,112,115,116,118,119,121,122,124,127,130,133,136,139,142,145,148,151,152,154,157,158,160,161,163,166,167,169,170,172,173,175,178) have mixed types. Specify dtype option on import or set low_memory=False.\n",
      "  hospital_df = pd.read_csv(f\"{hospital_data}PUDF_base1_{quarter}_tab.csv\")\n"
     ]
    },
    {
     "name": "stdout",
     "output_type": "stream",
     "text": [
      "1q2012\n"
     ]
    },
    {
     "name": "stderr",
     "output_type": "stream",
     "text": [
      "/tmp/ipykernel_3799923/4138451628.py:27: DtypeWarning: Columns (5,7,8,12,13,16,18,19,33,34,52,53,54,55,56,57,58,59,60,61,62,63,64,65,66,67,68,69,70,71,72,73,74,75,76,77,78,79,80,81,82,83,85,86,87,88,89,90,91,92,93,94,95,96,97,98,100,102,106,109,118) have mixed types. Specify dtype option on import or set low_memory=False.\n",
      "  hospital_df = pd.read_csv(f\"{hospital_data}PUDF_base1_{quarter}_tab.csv\")\n"
     ]
    },
    {
     "name": "stdout",
     "output_type": "stream",
     "text": [
      "2q2012\n"
     ]
    },
    {
     "name": "stderr",
     "output_type": "stream",
     "text": [
      "/tmp/ipykernel_3799923/4138451628.py:27: DtypeWarning: Columns (4,5,7,8,12,13,16,18,19,22,39,40,42,44,46,49,50,52,54,55,56,57,58,59,60,61,62,63,64,65,66,67,68,69,70,71,72,73,74,75,76,77,78,79,80,81,82,83,84,85,86,87,88,89,90,91,92,93,94,95,96,97,98,99,100,102,103,104,106,107,109,112,115) have mixed types. Specify dtype option on import or set low_memory=False.\n",
      "  hospital_df = pd.read_csv(f\"{hospital_data}PUDF_base1_{quarter}_tab.csv\")\n"
     ]
    },
    {
     "name": "stdout",
     "output_type": "stream",
     "text": [
      "3q2012\n"
     ]
    },
    {
     "name": "stderr",
     "output_type": "stream",
     "text": [
      "/tmp/ipykernel_3799923/4138451628.py:27: DtypeWarning: Columns (5,7,8,12,13,16,18,19,24,35,37,39,41,43,45,47,49,51,52,53,54,55,56,57,58,59,60,61,62,63,64,65,66,67,68,69,70,71,72,73,74,75,76,77,78,79,80,81,82,83,84,85,86,87,88,89,90,91,92,93,94,95,96,97,98,99,100,101,102,103,104,106,107,109,110,112,113,115,145,164,166) have mixed types. Specify dtype option on import or set low_memory=False.\n",
      "  hospital_df = pd.read_csv(f\"{hospital_data}PUDF_base1_{quarter}_tab.csv\")\n"
     ]
    },
    {
     "name": "stdout",
     "output_type": "stream",
     "text": [
      "4q2012\n"
     ]
    },
    {
     "name": "stderr",
     "output_type": "stream",
     "text": [
      "/tmp/ipykernel_3799923/4138451628.py:27: DtypeWarning: Columns (4,5,7,8,12,13,16,18,19,35,37,39,41,43,45,47,49,51,53,55,56,57,59,61,63,64,65,66,67,68,69,70,71,72,73,74,75,76,77,78,79,80,81,82,83,84,85,86,87,88,89,90,91,92,93,94,95,96,97,98,99,100,102,104,106,107,109,110,112,115,119,121,122,124,125,127,128,130,131,133,145,148,151,164,166) have mixed types. Specify dtype option on import or set low_memory=False.\n",
      "  hospital_df = pd.read_csv(f\"{hospital_data}PUDF_base1_{quarter}_tab.csv\")\n"
     ]
    },
    {
     "name": "stdout",
     "output_type": "stream",
     "text": [
      "1q2013\n"
     ]
    },
    {
     "name": "stderr",
     "output_type": "stream",
     "text": [
      "/tmp/ipykernel_3799923/4138451628.py:27: DtypeWarning: Columns (5,7,8,12,16,18,19,35,37,39,41,43,45,47,49,51,53,55,56,57,59,60,61,62,63,65,66,67,69,70,71,72,73,74,75,76,77,78,79,80,81,82,83,84,85,86,87,88,89,90,91,92,93,94,95,96,97,98,99,100,101,102,104,106,107,109,110,112,113,115,116,118,125,127,128,130,131,133,134,136,145,148,151,154) have mixed types. Specify dtype option on import or set low_memory=False.\n",
      "  hospital_df = pd.read_csv(f\"{hospital_data}PUDF_base1_{quarter}_tab.csv\")\n"
     ]
    },
    {
     "name": "stdout",
     "output_type": "stream",
     "text": [
      "2q2013\n"
     ]
    },
    {
     "name": "stderr",
     "output_type": "stream",
     "text": [
      "/tmp/ipykernel_3799923/4138451628.py:27: DtypeWarning: Columns (4,5,7,8,12,16,18,19,22,35,37,39,41,43,45,47,49,51,53,55,57,59,61,63,65,67,69,71,72,73,74,75,76,77,78,79,80,81,82,83,84,85,86,87,88,89,90,91,92,93,94,95,96,97,98,99,100,101,102,103,104,106,107,109,110,112,134,136,145) have mixed types. Specify dtype option on import or set low_memory=False.\n",
      "  hospital_df = pd.read_csv(f\"{hospital_data}PUDF_base1_{quarter}_tab.csv\")\n"
     ]
    },
    {
     "name": "stdout",
     "output_type": "stream",
     "text": [
      "3q2013\n"
     ]
    },
    {
     "name": "stderr",
     "output_type": "stream",
     "text": [
      "/tmp/ipykernel_3799923/4138451628.py:27: DtypeWarning: Columns (4,5,7,8,12,16,18,19,22,35,37,39,41,43,45,47,49,51,53,55,57,59,61,63,65,67,69,71,73,75,77,79,80,81,82,83,84,85,86,87,88,89,90,91,92,93,94,95,96,97,98,99,100,101,102,103,104,106,107,109,110,112,113,115,122,124,131,133,143,145,146,148,151,154,157,160,163,166) have mixed types. Specify dtype option on import or set low_memory=False.\n",
      "  hospital_df = pd.read_csv(f\"{hospital_data}PUDF_base1_{quarter}_tab.csv\")\n"
     ]
    },
    {
     "name": "stdout",
     "output_type": "stream",
     "text": [
      "4q2013\n"
     ]
    },
    {
     "name": "stderr",
     "output_type": "stream",
     "text": [
      "/tmp/ipykernel_3799923/4138451628.py:27: DtypeWarning: Columns (4,5,7,8,12,16,18,19,33,34,35,37,39,41,43,45,47,49,51,53,55,57,59,61,63,65,67,69,71,72,73,74,75,76,77,78,79,80,81,82,83,84,85,86,87,88,89,90,91,92,93,94,95,96,97,98,99,100,101,102,103,104,106,107,109,110,112,116,118,131,133,134,136,137,139,140,142,143,145,146,148,151,154) have mixed types. Specify dtype option on import or set low_memory=False.\n",
      "  hospital_df = pd.read_csv(f\"{hospital_data}PUDF_base1_{quarter}_tab.csv\")\n"
     ]
    },
    {
     "name": "stdout",
     "output_type": "stream",
     "text": [
      "1q2014\n"
     ]
    },
    {
     "name": "stderr",
     "output_type": "stream",
     "text": [
      "/tmp/ipykernel_3799923/4138451628.py:27: DtypeWarning: Columns (4,5,7,8,9,12,16,18,19,35,37,39,41,43,45,47,49,51,53,55,57,59,61,63,65,67,69,71,73,75,77,79,80,81,82,83,84,85,86,87,88,89,90,91,92,93,94,95,96,97,98,99,100,104,106,107,109,110,112,113,115,116,118,128,130,131,133,134,136,137,139,140,142,143,145,146,148,149,151,154,157,158,160,161,163,166,169,172,175,178) have mixed types. Specify dtype option on import or set low_memory=False.\n",
      "  hospital_df = pd.read_csv(f\"{hospital_data}PUDF_base1_{quarter}_tab.csv\")\n"
     ]
    },
    {
     "name": "stdout",
     "output_type": "stream",
     "text": [
      "2q2014\n"
     ]
    },
    {
     "name": "stderr",
     "output_type": "stream",
     "text": [
      "/tmp/ipykernel_3799923/4138451628.py:27: DtypeWarning: Columns (5,7,8,12,16,18,19,22,35,37,39,41,43,45,47,49,51,53,55,57,59,61,63,65,67,69,71,72,73,74,75,76,77,78,79,80,81,82,83,84,85,86,87,88,89,90,91,92,93,94,95,96,97,98,99,104,106,109,112) have mixed types. Specify dtype option on import or set low_memory=False.\n",
      "  hospital_df = pd.read_csv(f\"{hospital_data}PUDF_base1_{quarter}_tab.csv\")\n"
     ]
    },
    {
     "name": "stdout",
     "output_type": "stream",
     "text": [
      "3q2014\n"
     ]
    },
    {
     "name": "stderr",
     "output_type": "stream",
     "text": [
      "/tmp/ipykernel_3799923/4138451628.py:27: DtypeWarning: Columns (4,5,7,8,12,16,18,19,22,34,35,37,39,41,43,45,47,49,51,53,55,57,59,61,63,65,67,69,71,72,73,74,75,76,77,78,79,80,81,82,83,84,85,86,87,88,89,90,91,92,93,94,95,96,97,98,99,100,101,102,103,109) have mixed types. Specify dtype option on import or set low_memory=False.\n",
      "  hospital_df = pd.read_csv(f\"{hospital_data}PUDF_base1_{quarter}_tab.csv\")\n"
     ]
    },
    {
     "name": "stdout",
     "output_type": "stream",
     "text": [
      "4q2014\n"
     ]
    },
    {
     "name": "stderr",
     "output_type": "stream",
     "text": [
      "/tmp/ipykernel_3799923/4138451628.py:27: DtypeWarning: Columns (4,5,7,8,9,12,16,18,19,22,35,37,39,41,43,45,47,49,51,53,55,57,59,61,63,65,67,69,71,73,75,77,79,81,83,84,85,86,87,88,89,90,91,92,93,94,95,96,97,98,99,100,101,102,103,106) have mixed types. Specify dtype option on import or set low_memory=False.\n",
      "  hospital_df = pd.read_csv(f\"{hospital_data}PUDF_base1_{quarter}_tab.csv\")\n"
     ]
    },
    {
     "name": "stdout",
     "output_type": "stream",
     "text": [
      "1q2015\n"
     ]
    },
    {
     "name": "stderr",
     "output_type": "stream",
     "text": [
      "/tmp/ipykernel_3799923/4138451628.py:27: DtypeWarning: Columns (4,5,7,8,12,16,18,19,22,35,37,39,41,43,45,47,49,51,53,55,57,59,61,63,65,67,69,71,73,75,77,78,79,80,81,82,83,84,85,86,87,88,89,90,91,92,93,94,95,96,97,98,99,100,101,102,103,106) have mixed types. Specify dtype option on import or set low_memory=False.\n",
      "  hospital_df = pd.read_csv(f\"{hospital_data}PUDF_base1_{quarter}_tab.csv\")\n"
     ]
    },
    {
     "name": "stdout",
     "output_type": "stream",
     "text": [
      "2q2015\n"
     ]
    },
    {
     "name": "stderr",
     "output_type": "stream",
     "text": [
      "/tmp/ipykernel_3799923/4138451628.py:27: DtypeWarning: Columns (4,5,7,8,12,16,18,19,22,35,37,39,41,43,45,47,49,51,53,55,57,59,61,63,65,67,69,71,73,74,75,76,77,78,79,80,81,82,83,84,85,86,87,88,89,90,91,92,93,94,95,96,97,98,99,100,102,106) have mixed types. Specify dtype option on import or set low_memory=False.\n",
      "  hospital_df = pd.read_csv(f\"{hospital_data}PUDF_base1_{quarter}_tab.csv\")\n"
     ]
    },
    {
     "name": "stdout",
     "output_type": "stream",
     "text": [
      "3q2015\n"
     ]
    },
    {
     "name": "stderr",
     "output_type": "stream",
     "text": [
      "/tmp/ipykernel_3799923/4138451628.py:27: DtypeWarning: Columns (5,7,8,9,12,16,18,19,22,35,37,39,41,43,45,47,49,51,53,55,57,59,61,63,65,67,69,71,73,75,76,77,79,81,82,83,84,85,86,87,88,89,90,91,92,93,94,95,96,97,98,99,100,101,104,105,106,108,111,114,116,117,120,123,126) have mixed types. Specify dtype option on import or set low_memory=False.\n",
      "  hospital_df = pd.read_csv(f\"{hospital_data}PUDF_base1_{quarter}_tab.csv\")\n"
     ]
    },
    {
     "data": {
      "text/html": [
       "<div>\n",
       "<style scoped>\n",
       "    .dataframe tbody tr th:only-of-type {\n",
       "        vertical-align: middle;\n",
       "    }\n",
       "\n",
       "    .dataframe tbody tr th {\n",
       "        vertical-align: top;\n",
       "    }\n",
       "\n",
       "    .dataframe thead th {\n",
       "        text-align: right;\n",
       "    }\n",
       "</style>\n",
       "<table border=\"1\" class=\"dataframe\">\n",
       "  <thead>\n",
       "    <tr style=\"text-align: right;\">\n",
       "      <th></th>\n",
       "    </tr>\n",
       "  </thead>\n",
       "  <tbody>\n",
       "  </tbody>\n",
       "</table>\n",
       "</div>"
      ],
      "text/plain": [
       "Empty DataFrame\n",
       "Columns: []\n",
       "Index: []"
      ]
     },
     "execution_count": 28,
     "metadata": {},
     "output_type": "execute_result"
    }
   ],
   "source": [
    "loopICDperQuarter(icd9_subset[1:], icd10=False)"
   ]
  },
  {
   "cell_type": "code",
   "execution_count": null,
   "metadata": {},
   "outputs": [],
   "source": [
    "def pd_groupDF(hospital_df, icd_code):\n",
    "    '''\n",
    "    this function will take in a dataframe, find out which patients have the given icd code, then count by zip code and finally return this groupby dataframe\n",
    "    '''\n",
    "    hospital_df['PAT_ZIP'] = hospital_df['PAT_ZIP'].astype('str')\n",
    "    hospital_df = hospital_df[~hospital_df['PAT_ZIP'].str.endswith('.0')]\n",
    "    hospital_df = hospital_df[hospital_df['PAT_ZIP'].map(len) == 5]\n",
    "    hospital_df['PAT_ZIP'] = hospital_df['PAT_ZIP'].astype('int')\n",
    "    hospital_df = hospital_df[hospital_df['SEX_CODE'] == 'M']\n",
    "    return_df = hospital_df[hospital_df['PRINC_DIAG_CODE'].astype(str) == icd_code].groupby('PAT_ZIP').size().sort_values(ascending=False).reset_index()\n",
    "    return_df.columns = ['PAT_ZIP','ICD']\n",
    "    # return_df.replace('`',np.NaN, inplace=True)\n",
    "    # return_df['zip_codes'] = return_df['zip_codes'].fillna(0).astype('int')\n",
    "\n",
    "    return return_df\n"
   ]
  },
  {
   "cell_type": "code",
   "execution_count": null,
   "metadata": {},
   "outputs": [
    {
     "data": {
      "text/html": [
       "<div>\n",
       "<style scoped>\n",
       "    .dataframe tbody tr th:only-of-type {\n",
       "        vertical-align: middle;\n",
       "    }\n",
       "\n",
       "    .dataframe tbody tr th {\n",
       "        vertical-align: top;\n",
       "    }\n",
       "\n",
       "    .dataframe thead th {\n",
       "        text-align: right;\n",
       "    }\n",
       "</style>\n",
       "<table border=\"1\" class=\"dataframe\">\n",
       "  <thead>\n",
       "    <tr style=\"text-align: right;\">\n",
       "      <th></th>\n",
       "      <th>PAT_ZIP</th>\n",
       "      <th>ICD</th>\n",
       "    </tr>\n",
       "  </thead>\n",
       "  <tbody>\n",
       "    <tr>\n",
       "      <th>0</th>\n",
       "      <td>79601</td>\n",
       "      <td>12</td>\n",
       "    </tr>\n",
       "    <tr>\n",
       "      <th>1</th>\n",
       "      <td>79603</td>\n",
       "      <td>8</td>\n",
       "    </tr>\n",
       "    <tr>\n",
       "      <th>2</th>\n",
       "      <td>77469</td>\n",
       "      <td>5</td>\n",
       "    </tr>\n",
       "    <tr>\n",
       "      <th>3</th>\n",
       "      <td>88888</td>\n",
       "      <td>4</td>\n",
       "    </tr>\n",
       "    <tr>\n",
       "      <th>4</th>\n",
       "      <td>78660</td>\n",
       "      <td>4</td>\n",
       "    </tr>\n",
       "    <tr>\n",
       "      <th>...</th>\n",
       "      <td>...</td>\n",
       "      <td>...</td>\n",
       "    </tr>\n",
       "    <tr>\n",
       "      <th>249</th>\n",
       "      <td>77020</td>\n",
       "      <td>1</td>\n",
       "    </tr>\n",
       "    <tr>\n",
       "      <th>250</th>\n",
       "      <td>77021</td>\n",
       "      <td>1</td>\n",
       "    </tr>\n",
       "    <tr>\n",
       "      <th>251</th>\n",
       "      <td>77022</td>\n",
       "      <td>1</td>\n",
       "    </tr>\n",
       "    <tr>\n",
       "      <th>252</th>\n",
       "      <td>77031</td>\n",
       "      <td>1</td>\n",
       "    </tr>\n",
       "    <tr>\n",
       "      <th>253</th>\n",
       "      <td>77461</td>\n",
       "      <td>1</td>\n",
       "    </tr>\n",
       "  </tbody>\n",
       "</table>\n",
       "<p>254 rows × 2 columns</p>\n",
       "</div>"
      ],
      "text/plain": [
       "     PAT_ZIP  ICD\n",
       "0      79601   12\n",
       "1      79603    8\n",
       "2      77469    5\n",
       "3      88888    4\n",
       "4      78660    4\n",
       "..       ...  ...\n",
       "249    77020    1\n",
       "250    77021    1\n",
       "251    77022    1\n",
       "252    77031    1\n",
       "253    77461    1\n",
       "\n",
       "[254 rows x 2 columns]"
      ]
     },
     "metadata": {},
     "output_type": "display_data"
    }
   ],
   "source": [
    "pd_groupDF(df, 'A4189')"
   ]
  },
  {
   "cell_type": "code",
   "execution_count": 29,
   "metadata": {},
   "outputs": [
    {
     "name": "stdout",
     "output_type": "stream",
     "text": [
      "4q2015\n"
     ]
    },
    {
     "name": "stderr",
     "output_type": "stream",
     "text": [
      "/tmp/ipykernel_3799923/4138451628.py:27: DtypeWarning: Columns (3,4,5,6,7,8,11,15,17,18,54,55,56,57,58,59,60,61,62,63,64,65,66,67,68,69,70,71,72,73,74,75,76,77,78,79,80,81,82,83,84,85,86,87,88,89,90,91,92,93,94,95,96,97,98,99,100,103,105,107,109,111,113,115,117,119,124,125,126,128,130,132,134,136,138,140,142,144,146,148,150) have mixed types. Specify dtype option on import or set low_memory=False.\n",
      "  hospital_df = pd.read_csv(f\"{hospital_data}PUDF_base1_{quarter}_tab.csv\")\n"
     ]
    },
    {
     "name": "stdout",
     "output_type": "stream",
     "text": [
      "1q2016\n"
     ]
    },
    {
     "name": "stderr",
     "output_type": "stream",
     "text": [
      "/tmp/ipykernel_3799923/4138451628.py:27: DtypeWarning: Columns (4,6,7,11,15,17,18,21,82,83,84,85,86,87,88,89,90,91,92,93,94,95,96,97,98,100,101,103,105,107,109,111,113,119,122,124,125,126,128,130,132,134,136,138,140,142,144,146,147,148,150) have mixed types. Specify dtype option on import or set low_memory=False.\n",
      "  hospital_df = pd.read_csv(f\"{hospital_data}PUDF_base1_{quarter}_tab.csv\")\n"
     ]
    },
    {
     "name": "stdout",
     "output_type": "stream",
     "text": [
      "2q2016\n"
     ]
    },
    {
     "name": "stderr",
     "output_type": "stream",
     "text": [
      "/tmp/ipykernel_3799923/4138451628.py:27: DtypeWarning: Columns (4,6,7,11,15,17,18,21,70,71,72,73,74,75,76,77,78,79,80,81,82,83,84,85,86,87,88,89,90,91,92,93,94,95,96,97,103,105,107,109,111,113,115,117,119,121,123,125,126,128,130,132,134,136,138,140,142,143,144,145,146,147,148,149,150,151) have mixed types. Specify dtype option on import or set low_memory=False.\n",
      "  hospital_df = pd.read_csv(f\"{hospital_data}PUDF_base1_{quarter}_tab.csv\")\n"
     ]
    },
    {
     "name": "stdout",
     "output_type": "stream",
     "text": [
      "3q2016\n"
     ]
    },
    {
     "name": "stderr",
     "output_type": "stream",
     "text": [
      "/tmp/ipykernel_3799923/4138451628.py:27: DtypeWarning: Columns (4,6,7,11,15,17,18,21,64,65,66,67,68,69,70,71,72,73,74,75,76,77,78,79,80,81,82,83,84,85,86,87,88,89,90,91,92,93,94,95,96,97,98,99,103,105,106,107,108,109,110,111,112,113,114,115,116,117,118,120,122,124,126,128,130,132,134,136,138,140,142,144,146,148,150) have mixed types. Specify dtype option on import or set low_memory=False.\n",
      "  hospital_df = pd.read_csv(f\"{hospital_data}PUDF_base1_{quarter}_tab.csv\")\n"
     ]
    },
    {
     "name": "stdout",
     "output_type": "stream",
     "text": [
      "4q2016\n"
     ]
    },
    {
     "name": "stderr",
     "output_type": "stream",
     "text": [
      "/tmp/ipykernel_3799923/4138451628.py:27: DtypeWarning: Columns (4,6,7,8,11,18,21,23,33,35,37,39,41,43,45,47,49,50,51,52,53,54,55,56,57,58,59,60,61,62,63,64,65,66,67,68,69,70,71,72,73,74,75,76,77,78,79,80,81,82,83,84,85,86,87,88,89,90,91,92,93,94,95,96,97,103,104,105,106,107,108,109,110,111,112,114,115,116,118,120,122,124,125,126,128,130,132,134,136,138,140,142,144,146,147,148,150) have mixed types. Specify dtype option on import or set low_memory=False.\n",
      "  hospital_df = pd.read_csv(f\"{hospital_data}PUDF_base1_{quarter}_tab.csv\")\n"
     ]
    },
    {
     "name": "stdout",
     "output_type": "stream",
     "text": [
      "1q2017\n"
     ]
    },
    {
     "name": "stderr",
     "output_type": "stream",
     "text": [
      "/tmp/ipykernel_3799923/4138451628.py:27: DtypeWarning: Columns (4,6,7,11,17,18,21,73,75,80,81,82,83,84,85,86,87,88,89,90,91,92,93,94,95,96,97,98,99,103,105,107,109,111,113,115,117,119,122,124,125,126,128,130,132,134,136,138,140,142,144,146,147,148,150) have mixed types. Specify dtype option on import or set low_memory=False.\n",
      "  hospital_df = pd.read_csv(f\"{hospital_data}PUDF_base1_{quarter}_tab.csv\")\n"
     ]
    },
    {
     "name": "stdout",
     "output_type": "stream",
     "text": [
      "2q2017\n"
     ]
    },
    {
     "name": "stderr",
     "output_type": "stream",
     "text": [
      "/tmp/ipykernel_3799923/4138451628.py:27: DtypeWarning: Columns (4,6,7,11,15,17,18,21,23,35,37,39,41,43,45,47,49,50,51,52,53,54,55,56,57,58,59,60,61,62,63,64,65,66,67,68,69,70,71,72,73,74,75,76,77,78,79,80,81,82,83,84,85,86,87,88,89,90,91,92,93,94,95,96,103,104,105,106,107,108,109,110,111,112,114,116,118,119,120,122,124,125,126,128,130,132,134,136,138,140,142,144,146,148,150) have mixed types. Specify dtype option on import or set low_memory=False.\n",
      "  hospital_df = pd.read_csv(f\"{hospital_data}PUDF_base1_{quarter}_tab.csv\")\n"
     ]
    },
    {
     "name": "stdout",
     "output_type": "stream",
     "text": [
      "3q2017\n"
     ]
    },
    {
     "name": "stderr",
     "output_type": "stream",
     "text": [
      "/tmp/ipykernel_3799923/4138451628.py:27: DtypeWarning: Columns (3,4,6,7,11,15,17,18,21,80,81,83,84,85,86,87,88,89,90,91,92,93,94,95,96,97,98,99,103,105,107,109,111,124,125,126,128,129,130,132,134,136,138,140,142,144,146,148,150) have mixed types. Specify dtype option on import or set low_memory=False.\n",
      "  hospital_df = pd.read_csv(f\"{hospital_data}PUDF_base1_{quarter}_tab.csv\")\n"
     ]
    },
    {
     "name": "stdout",
     "output_type": "stream",
     "text": [
      "4q2017\n"
     ]
    },
    {
     "name": "stderr",
     "output_type": "stream",
     "text": [
      "/tmp/ipykernel_3799923/4138451628.py:27: DtypeWarning: Columns (4,6,7,11,15,17,18,21,70,71,72,73,74,75,76,77,78,79,80,81,86,87,88,89,90,91,92,93,94,95,96,97,98,103,105,107,109,125,126,128,130,132,134,136,138,140,142,144,146,148,150) have mixed types. Specify dtype option on import or set low_memory=False.\n",
      "  hospital_df = pd.read_csv(f\"{hospital_data}PUDF_base1_{quarter}_tab.csv\")\n"
     ]
    },
    {
     "name": "stdout",
     "output_type": "stream",
     "text": [
      "1q2018\n"
     ]
    },
    {
     "name": "stderr",
     "output_type": "stream",
     "text": [
      "/tmp/ipykernel_3799923/4138451628.py:27: DtypeWarning: Columns (4,6,7,11,15,17,18,21,73,77,78,79,80,81,82,83,84,85,86,87,88,89,90,91,92,93,94,95,96,97,103,115,117,120,122,123,124,125,126,128,130,132,134,136,138,140,142,144,146,148,150) have mixed types. Specify dtype option on import or set low_memory=False.\n",
      "  hospital_df = pd.read_csv(f\"{hospital_data}PUDF_base1_{quarter}_tab.csv\")\n"
     ]
    },
    {
     "name": "stdout",
     "output_type": "stream",
     "text": [
      "2q2018\n"
     ]
    },
    {
     "name": "stderr",
     "output_type": "stream",
     "text": [
      "/tmp/ipykernel_3799923/4138451628.py:27: DtypeWarning: Columns (4,6,7,11,15,17,18,21,80,81,82,83,84,85,86,87,88,89,90,91,92,93,94,95,96,97,98,99,100,103,105,107,109,111,113,120,122,124,126,128,130,132,134,136,138,140,142,144,146,148,150) have mixed types. Specify dtype option on import or set low_memory=False.\n",
      "  hospital_df = pd.read_csv(f\"{hospital_data}PUDF_base1_{quarter}_tab.csv\")\n"
     ]
    },
    {
     "name": "stdout",
     "output_type": "stream",
     "text": [
      "3q2018\n"
     ]
    },
    {
     "name": "stderr",
     "output_type": "stream",
     "text": [
      "/tmp/ipykernel_3799923/4138451628.py:27: DtypeWarning: Columns (4,6,7,11,15,18,21,80,81,82,83,84,85,86,87,88,89,90,91,92,93,94,95,96,97,98,99,100,105,107,109,126,128,130,132,134,136,138,140,142,144,146,148,150) have mixed types. Specify dtype option on import or set low_memory=False.\n",
      "  hospital_df = pd.read_csv(f\"{hospital_data}PUDF_base1_{quarter}_tab.csv\")\n"
     ]
    },
    {
     "name": "stdout",
     "output_type": "stream",
     "text": [
      "4q2018\n"
     ]
    },
    {
     "name": "stderr",
     "output_type": "stream",
     "text": [
      "/tmp/ipykernel_3799923/4138451628.py:27: DtypeWarning: Columns (4,6,7,11,15,17,18,21,80,81,87,88,89,90,91,92,93,94,95,96,97,98,99,100,101,103,105,113,115,128,130,132,134,136,138,140,142,144,146,148,150) have mixed types. Specify dtype option on import or set low_memory=False.\n",
      "  hospital_df = pd.read_csv(f\"{hospital_data}PUDF_base1_{quarter}_tab.csv\")\n"
     ]
    },
    {
     "name": "stdout",
     "output_type": "stream",
     "text": [
      "1q2019\n"
     ]
    },
    {
     "name": "stderr",
     "output_type": "stream",
     "text": [
      "/tmp/ipykernel_3799923/4138451628.py:27: DtypeWarning: Columns (4,6,7,11,15,17,18,21,68,69,70,71,72,73,74,75,76,77,78,79,80,81,82,83,84,85,86,87,88,89,90,91,92,93,94,95,96,97,98,99,103,105,107,109,110,111,112,113,114,115,116,117,118,119,120,121,122,123,124,125,126,128,130,132,134,136,138,140,142,144,146,148,150) have mixed types. Specify dtype option on import or set low_memory=False.\n",
      "  hospital_df = pd.read_csv(f\"{hospital_data}PUDF_base1_{quarter}_tab.csv\")\n"
     ]
    },
    {
     "name": "stdout",
     "output_type": "stream",
     "text": [
      "2q2019\n"
     ]
    },
    {
     "name": "stderr",
     "output_type": "stream",
     "text": [
      "/tmp/ipykernel_3799923/4138451628.py:27: DtypeWarning: Columns (4,6,7,11,15,17,18,21,68,69,70,71,72,73,74,75,76,77,78,79,80,81,82,83,84,85,86,87,88,89,90,91,92,93,94,95,96,97,98,103,105,107,122,124,126,128,130,132,134,136,138,140,142,144,146,148,150) have mixed types. Specify dtype option on import or set low_memory=False.\n",
      "  hospital_df = pd.read_csv(f\"{hospital_data}PUDF_base1_{quarter}_tab.csv\")\n"
     ]
    },
    {
     "name": "stdout",
     "output_type": "stream",
     "text": [
      "3q2019\n"
     ]
    },
    {
     "name": "stderr",
     "output_type": "stream",
     "text": [
      "/tmp/ipykernel_3799923/4138451628.py:27: DtypeWarning: Columns (4,6,7,11,15,17,18,21,68,69,70,71,72,73,74,75,76,77,78,79,80,81,87,88,89,90,91,92,93,94,95,96,97,98,100,103,105,109,113,122,124,126,128,130,132,134,136,138,140,142,144,146,148,150) have mixed types. Specify dtype option on import or set low_memory=False.\n",
      "  hospital_df = pd.read_csv(f\"{hospital_data}PUDF_base1_{quarter}_tab.csv\")\n"
     ]
    },
    {
     "name": "stdout",
     "output_type": "stream",
     "text": [
      "4q2019\n"
     ]
    },
    {
     "name": "stderr",
     "output_type": "stream",
     "text": [
      "/tmp/ipykernel_3799923/4138451628.py:27: DtypeWarning: Columns (4,6,7,11,15,18,21,68,69,70,71,72,73,74,75,76,77,78,79,80,81,86,87,88,89,90,91,92,93,94,95,96,97,98,103,105,109,122,124,126,128,130,132,134,136,138,140,142,144,146,148,150) have mixed types. Specify dtype option on import or set low_memory=False.\n",
      "  hospital_df = pd.read_csv(f\"{hospital_data}PUDF_base1_{quarter}_tab.csv\")\n"
     ]
    },
    {
     "name": "stdout",
     "output_type": "stream",
     "text": [
      "1q2020\n"
     ]
    },
    {
     "name": "stderr",
     "output_type": "stream",
     "text": [
      "/tmp/ipykernel_3799923/4138451628.py:27: DtypeWarning: Columns (3,4,6,7,11,15,17,18,21,68,69,70,71,72,73,74,75,76,77,78,79,80,81,85,86,87,88,89,90,91,92,93,94,95,96,97,98,99,100,101,103,105,107,118,120,122,124,126,128,130,132,134,136,138,140,142,144,146,148,150) have mixed types. Specify dtype option on import or set low_memory=False.\n",
      "  hospital_df = pd.read_csv(f\"{hospital_data}PUDF_base1_{quarter}_tab.csv\")\n"
     ]
    },
    {
     "name": "stdout",
     "output_type": "stream",
     "text": [
      "2q2020\n"
     ]
    },
    {
     "name": "stderr",
     "output_type": "stream",
     "text": [
      "/tmp/ipykernel_3799923/4138451628.py:27: DtypeWarning: Columns (4,6,7,11,18,21,23,68,69,70,71,72,73,74,75,76,77,78,79,80,81,86,87,88,89,90,91,92,93,94,95,96,97,98,103,105,107,109,111,122,124,126,128,130,132,134,136,138,140,142,144,146,148,150) have mixed types. Specify dtype option on import or set low_memory=False.\n",
      "  hospital_df = pd.read_csv(f\"{hospital_data}PUDF_base1_{quarter}_tab.csv\")\n"
     ]
    },
    {
     "name": "stdout",
     "output_type": "stream",
     "text": [
      "3q2020\n"
     ]
    },
    {
     "name": "stderr",
     "output_type": "stream",
     "text": [
      "/tmp/ipykernel_3799923/4138451628.py:27: DtypeWarning: Columns (4,6,7,11,15,17,18,21,54,55,56,57,58,59,60,61,62,63,64,65,66,67,68,69,70,71,72,73,74,75,76,77,78,79,80,81,86,87,88,89,90,91,92,93,94,95,96,98,103,105,106,107,108,110,112,114,116,118,120,122,124,126,128,130,132,134,136,138,140,142,144,146,148,150) have mixed types. Specify dtype option on import or set low_memory=False.\n",
      "  hospital_df = pd.read_csv(f\"{hospital_data}PUDF_base1_{quarter}_tab.csv\")\n"
     ]
    },
    {
     "name": "stdout",
     "output_type": "stream",
     "text": [
      "4q2020\n"
     ]
    },
    {
     "name": "stderr",
     "output_type": "stream",
     "text": [
      "/tmp/ipykernel_3799923/4138451628.py:27: DtypeWarning: Columns (3,4,6,7,11,17,18,21,54,55,56,57,58,59,60,61,62,63,64,65,66,67,68,69,70,71,72,73,74,75,76,77,78,79,80,81,84,85,86,87,88,89,90,91,92,93,94,95,96,97,98,99,103,105,106,108,110,112,114,116,118,120,122,124,126,128,130,132,134,136,138,140,142,144,146,148,150) have mixed types. Specify dtype option on import or set low_memory=False.\n",
      "  hospital_df = pd.read_csv(f\"{hospital_data}PUDF_base1_{quarter}_tab.csv\")\n"
     ]
    },
    {
     "name": "stdout",
     "output_type": "stream",
     "text": [
      "1q2021\n"
     ]
    },
    {
     "name": "stderr",
     "output_type": "stream",
     "text": [
      "/tmp/ipykernel_3799923/4138451628.py:27: DtypeWarning: Columns (4,6,7,11,15,21,54,55,56,57,58,59,60,61,62,63,64,65,66,67,68,69,70,71,72,73,74,75,76,77,78,79,80,81,87,88,89,90,91,92,93,94,95,96,97,103,105,106,107,108,110,112,114,116,118,120,122,124,126,128,130,132,134,136,138,140,142,144,146,148,150) have mixed types. Specify dtype option on import or set low_memory=False.\n",
      "  hospital_df = pd.read_csv(f\"{hospital_data}PUDF_base1_{quarter}_tab.csv\")\n"
     ]
    },
    {
     "name": "stdout",
     "output_type": "stream",
     "text": [
      "2q2021\n"
     ]
    },
    {
     "name": "stderr",
     "output_type": "stream",
     "text": [
      "/tmp/ipykernel_3799923/4138451628.py:27: DtypeWarning: Columns (4,6,7,8,11,17,18,21,52,53,54,55,56,57,58,59,60,61,62,63,64,65,66,67,68,69,70,71,72,73,74,75,76,77,78,79,80,81,84,85,86,87,88,89,90,91,92,93,94,95,96,97,103,106,108,110,112,114,116,118,120,122,124,126,128,130,132,134,136,138,140,142,144,146,148,150) have mixed types. Specify dtype option on import or set low_memory=False.\n",
      "  hospital_df = pd.read_csv(f\"{hospital_data}PUDF_base1_{quarter}_tab.csv\")\n"
     ]
    },
    {
     "name": "stdout",
     "output_type": "stream",
     "text": [
      "3q2021\n"
     ]
    },
    {
     "name": "stderr",
     "output_type": "stream",
     "text": [
      "/tmp/ipykernel_3799923/4138451628.py:27: DtypeWarning: Columns (4,6,7,11,17,21,54,55,56,57,58,59,60,61,62,63,64,65,66,67,68,69,70,71,72,73,74,75,76,77,78,79,80,81,82,83,84,85,86,87,88,89,90,91,92,93,94,95,96,97,98,99,100,101,103,106,108,110,112,113,114,116,118,120,122,124,126,128,129,130,131,132,133,134,135,136,137,138,139,140,141,142,143,144,145,146,147,148,149,150) have mixed types. Specify dtype option on import or set low_memory=False.\n",
      "  hospital_df = pd.read_csv(f\"{hospital_data}PUDF_base1_{quarter}_tab.csv\")\n"
     ]
    },
    {
     "name": "stdout",
     "output_type": "stream",
     "text": [
      "4q2021\n"
     ]
    },
    {
     "name": "stderr",
     "output_type": "stream",
     "text": [
      "/tmp/ipykernel_3799923/4138451628.py:27: DtypeWarning: Columns (4,6,7,11,17,18,21,54,55,56,57,58,59,60,61,62,63,64,65,66,67,68,69,70,71,72,73,74,75,76,77,78,79,80,81,82,83,84,85,86,87,88,89,90,91,92,93,94,95,96,97,98,103,106,108,110,112,113,114,116,118,120,122,124,126,128,130,132,134,136,138,140,142,144,146,148,150) have mixed types. Specify dtype option on import or set low_memory=False.\n",
      "  hospital_df = pd.read_csv(f\"{hospital_data}PUDF_base1_{quarter}_tab.csv\")\n"
     ]
    },
    {
     "data": {
      "text/html": [
       "<div>\n",
       "<style scoped>\n",
       "    .dataframe tbody tr th:only-of-type {\n",
       "        vertical-align: middle;\n",
       "    }\n",
       "\n",
       "    .dataframe tbody tr th {\n",
       "        vertical-align: top;\n",
       "    }\n",
       "\n",
       "    .dataframe thead th {\n",
       "        text-align: right;\n",
       "    }\n",
       "</style>\n",
       "<table border=\"1\" class=\"dataframe\">\n",
       "  <thead>\n",
       "    <tr style=\"text-align: right;\">\n",
       "      <th></th>\n",
       "    </tr>\n",
       "  </thead>\n",
       "  <tbody>\n",
       "  </tbody>\n",
       "</table>\n",
       "</div>"
      ],
      "text/plain": [
       "Empty DataFrame\n",
       "Columns: []\n",
       "Index: []"
      ]
     },
     "execution_count": 29,
     "metadata": {},
     "output_type": "execute_result"
    }
   ],
   "source": [
    "loopICDperQuarter(icd10_subset, icd10=True)"
   ]
  }
 ],
 "metadata": {
  "interpreter": {
   "hash": "bceb9cf4561ca3ef8bb7a721829de9548ce9f86c87a3b466c7f7299bf7881a99"
  },
  "kernelspec": {
   "display_name": "Python 3.9.16 ('hospitalization')",
   "language": "python",
   "name": "python3"
  },
  "language_info": {
   "codemirror_mode": {
    "name": "ipython",
    "version": 3
   },
   "file_extension": ".py",
   "mimetype": "text/x-python",
   "name": "python",
   "nbconvert_exporter": "python",
   "pygments_lexer": "ipython3",
   "version": "3.9.16"
  },
  "orig_nbformat": 4
 },
 "nbformat": 4,
 "nbformat_minor": 2
}
